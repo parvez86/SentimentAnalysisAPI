{
  "cells": [
    {
      "cell_type": "code",
      "execution_count": null,
      "metadata": {
        "colab": {
          "base_uri": "https://localhost:8080/"
        },
        "id": "ZyyEqhi9Js8X",
        "outputId": "ca0960ea-0ed1-44a5-c84b-f2e0b32ddd30"
      },
      "outputs": [
        {
          "name": "stdout",
          "output_type": "stream",
          "text": [
            "Collecting tensorflow_text\n",
            "  Downloading tensorflow_text-2.12.1-cp310-cp310-manylinux_2_17_x86_64.manylinux2014_x86_64.whl (6.0 MB)\n",
            "\u001b[2K     \u001b[90m━━━━━━━━━━━━━━━━━━━━━━━━━━━━━━━━━━━━━━━━\u001b[0m \u001b[32m6.0/6.0 MB\u001b[0m \u001b[31m51.0 MB/s\u001b[0m eta \u001b[36m0:00:00\u001b[0m\n",
            "\u001b[?25hRequirement already satisfied: tensorflow-hub>=0.8.0 in /usr/local/lib/python3.10/dist-packages (from tensorflow_text) (0.13.0)\n",
            "Requirement already satisfied: tensorflow<2.13,>=2.12.0 in /usr/local/lib/python3.10/dist-packages (from tensorflow_text) (2.12.0)\n",
            "Requirement already satisfied: absl-py>=1.0.0 in /usr/local/lib/python3.10/dist-packages (from tensorflow<2.13,>=2.12.0->tensorflow_text) (1.4.0)\n",
            "Requirement already satisfied: astunparse>=1.6.0 in /usr/local/lib/python3.10/dist-packages (from tensorflow<2.13,>=2.12.0->tensorflow_text) (1.6.3)\n",
            "Requirement already satisfied: flatbuffers>=2.0 in /usr/local/lib/python3.10/dist-packages (from tensorflow<2.13,>=2.12.0->tensorflow_text) (23.5.26)\n",
            "Requirement already satisfied: gast<=0.4.0,>=0.2.1 in /usr/local/lib/python3.10/dist-packages (from tensorflow<2.13,>=2.12.0->tensorflow_text) (0.4.0)\n",
            "Requirement already satisfied: google-pasta>=0.1.1 in /usr/local/lib/python3.10/dist-packages (from tensorflow<2.13,>=2.12.0->tensorflow_text) (0.2.0)\n",
            "Requirement already satisfied: grpcio<2.0,>=1.24.3 in /usr/local/lib/python3.10/dist-packages (from tensorflow<2.13,>=2.12.0->tensorflow_text) (1.56.0)\n",
            "Requirement already satisfied: h5py>=2.9.0 in /usr/local/lib/python3.10/dist-packages (from tensorflow<2.13,>=2.12.0->tensorflow_text) (3.8.0)\n",
            "Requirement already satisfied: jax>=0.3.15 in /usr/local/lib/python3.10/dist-packages (from tensorflow<2.13,>=2.12.0->tensorflow_text) (0.4.10)\n",
            "Requirement already satisfied: keras<2.13,>=2.12.0 in /usr/local/lib/python3.10/dist-packages (from tensorflow<2.13,>=2.12.0->tensorflow_text) (2.12.0)\n",
            "Requirement already satisfied: libclang>=13.0.0 in /usr/local/lib/python3.10/dist-packages (from tensorflow<2.13,>=2.12.0->tensorflow_text) (16.0.0)\n",
            "Requirement already satisfied: numpy<1.24,>=1.22 in /usr/local/lib/python3.10/dist-packages (from tensorflow<2.13,>=2.12.0->tensorflow_text) (1.22.4)\n",
            "Requirement already satisfied: opt-einsum>=2.3.2 in /usr/local/lib/python3.10/dist-packages (from tensorflow<2.13,>=2.12.0->tensorflow_text) (3.3.0)\n",
            "Requirement already satisfied: packaging in /usr/local/lib/python3.10/dist-packages (from tensorflow<2.13,>=2.12.0->tensorflow_text) (23.1)\n",
            "Requirement already satisfied: protobuf!=4.21.0,!=4.21.1,!=4.21.2,!=4.21.3,!=4.21.4,!=4.21.5,<5.0.0dev,>=3.20.3 in /usr/local/lib/python3.10/dist-packages (from tensorflow<2.13,>=2.12.0->tensorflow_text) (3.20.3)\n",
            "Requirement already satisfied: setuptools in /usr/local/lib/python3.10/dist-packages (from tensorflow<2.13,>=2.12.0->tensorflow_text) (67.7.2)\n",
            "Requirement already satisfied: six>=1.12.0 in /usr/local/lib/python3.10/dist-packages (from tensorflow<2.13,>=2.12.0->tensorflow_text) (1.16.0)\n",
            "Requirement already satisfied: tensorboard<2.13,>=2.12 in /usr/local/lib/python3.10/dist-packages (from tensorflow<2.13,>=2.12.0->tensorflow_text) (2.12.3)\n",
            "Requirement already satisfied: tensorflow-estimator<2.13,>=2.12.0 in /usr/local/lib/python3.10/dist-packages (from tensorflow<2.13,>=2.12.0->tensorflow_text) (2.12.0)\n",
            "Requirement already satisfied: termcolor>=1.1.0 in /usr/local/lib/python3.10/dist-packages (from tensorflow<2.13,>=2.12.0->tensorflow_text) (2.3.0)\n",
            "Requirement already satisfied: typing-extensions>=3.6.6 in /usr/local/lib/python3.10/dist-packages (from tensorflow<2.13,>=2.12.0->tensorflow_text) (4.6.3)\n",
            "Requirement already satisfied: wrapt<1.15,>=1.11.0 in /usr/local/lib/python3.10/dist-packages (from tensorflow<2.13,>=2.12.0->tensorflow_text) (1.14.1)\n",
            "Requirement already satisfied: tensorflow-io-gcs-filesystem>=0.23.1 in /usr/local/lib/python3.10/dist-packages (from tensorflow<2.13,>=2.12.0->tensorflow_text) (0.32.0)\n",
            "Requirement already satisfied: wheel<1.0,>=0.23.0 in /usr/local/lib/python3.10/dist-packages (from astunparse>=1.6.0->tensorflow<2.13,>=2.12.0->tensorflow_text) (0.40.0)\n",
            "Requirement already satisfied: ml-dtypes>=0.1.0 in /usr/local/lib/python3.10/dist-packages (from jax>=0.3.15->tensorflow<2.13,>=2.12.0->tensorflow_text) (0.2.0)\n",
            "Requirement already satisfied: scipy>=1.7 in /usr/local/lib/python3.10/dist-packages (from jax>=0.3.15->tensorflow<2.13,>=2.12.0->tensorflow_text) (1.10.1)\n",
            "Requirement already satisfied: google-auth<3,>=1.6.3 in /usr/local/lib/python3.10/dist-packages (from tensorboard<2.13,>=2.12->tensorflow<2.13,>=2.12.0->tensorflow_text) (2.17.3)\n",
            "Requirement already satisfied: google-auth-oauthlib<1.1,>=0.5 in /usr/local/lib/python3.10/dist-packages (from tensorboard<2.13,>=2.12->tensorflow<2.13,>=2.12.0->tensorflow_text) (1.0.0)\n",
            "Requirement already satisfied: markdown>=2.6.8 in /usr/local/lib/python3.10/dist-packages (from tensorboard<2.13,>=2.12->tensorflow<2.13,>=2.12.0->tensorflow_text) (3.4.3)\n",
            "Requirement already satisfied: requests<3,>=2.21.0 in /usr/local/lib/python3.10/dist-packages (from tensorboard<2.13,>=2.12->tensorflow<2.13,>=2.12.0->tensorflow_text) (2.27.1)\n",
            "Requirement already satisfied: tensorboard-data-server<0.8.0,>=0.7.0 in /usr/local/lib/python3.10/dist-packages (from tensorboard<2.13,>=2.12->tensorflow<2.13,>=2.12.0->tensorflow_text) (0.7.1)\n",
            "Requirement already satisfied: werkzeug>=1.0.1 in /usr/local/lib/python3.10/dist-packages (from tensorboard<2.13,>=2.12->tensorflow<2.13,>=2.12.0->tensorflow_text) (2.3.6)\n",
            "Requirement already satisfied: cachetools<6.0,>=2.0.0 in /usr/local/lib/python3.10/dist-packages (from google-auth<3,>=1.6.3->tensorboard<2.13,>=2.12->tensorflow<2.13,>=2.12.0->tensorflow_text) (5.3.1)\n",
            "Requirement already satisfied: pyasn1-modules>=0.2.1 in /usr/local/lib/python3.10/dist-packages (from google-auth<3,>=1.6.3->tensorboard<2.13,>=2.12->tensorflow<2.13,>=2.12.0->tensorflow_text) (0.3.0)\n",
            "Requirement already satisfied: rsa<5,>=3.1.4 in /usr/local/lib/python3.10/dist-packages (from google-auth<3,>=1.6.3->tensorboard<2.13,>=2.12->tensorflow<2.13,>=2.12.0->tensorflow_text) (4.9)\n",
            "Requirement already satisfied: requests-oauthlib>=0.7.0 in /usr/local/lib/python3.10/dist-packages (from google-auth-oauthlib<1.1,>=0.5->tensorboard<2.13,>=2.12->tensorflow<2.13,>=2.12.0->tensorflow_text) (1.3.1)\n",
            "Requirement already satisfied: urllib3<1.27,>=1.21.1 in /usr/local/lib/python3.10/dist-packages (from requests<3,>=2.21.0->tensorboard<2.13,>=2.12->tensorflow<2.13,>=2.12.0->tensorflow_text) (1.26.16)\n",
            "Requirement already satisfied: certifi>=2017.4.17 in /usr/local/lib/python3.10/dist-packages (from requests<3,>=2.21.0->tensorboard<2.13,>=2.12->tensorflow<2.13,>=2.12.0->tensorflow_text) (2023.5.7)\n",
            "Requirement already satisfied: charset-normalizer~=2.0.0 in /usr/local/lib/python3.10/dist-packages (from requests<3,>=2.21.0->tensorboard<2.13,>=2.12->tensorflow<2.13,>=2.12.0->tensorflow_text) (2.0.12)\n",
            "Requirement already satisfied: idna<4,>=2.5 in /usr/local/lib/python3.10/dist-packages (from requests<3,>=2.21.0->tensorboard<2.13,>=2.12->tensorflow<2.13,>=2.12.0->tensorflow_text) (3.4)\n",
            "Requirement already satisfied: MarkupSafe>=2.1.1 in /usr/local/lib/python3.10/dist-packages (from werkzeug>=1.0.1->tensorboard<2.13,>=2.12->tensorflow<2.13,>=2.12.0->tensorflow_text) (2.1.3)\n",
            "Requirement already satisfied: pyasn1<0.6.0,>=0.4.6 in /usr/local/lib/python3.10/dist-packages (from pyasn1-modules>=0.2.1->google-auth<3,>=1.6.3->tensorboard<2.13,>=2.12->tensorflow<2.13,>=2.12.0->tensorflow_text) (0.5.0)\n",
            "Requirement already satisfied: oauthlib>=3.0.0 in /usr/local/lib/python3.10/dist-packages (from requests-oauthlib>=0.7.0->google-auth-oauthlib<1.1,>=0.5->tensorboard<2.13,>=2.12->tensorflow<2.13,>=2.12.0->tensorflow_text) (3.2.2)\n",
            "Installing collected packages: tensorflow_text\n",
            "Successfully installed tensorflow_text-2.12.1\n",
            "Collecting datasets\n",
            "  Downloading datasets-2.13.1-py3-none-any.whl (486 kB)\n",
            "\u001b[2K     \u001b[90m━━━━━━━━━━━━━━━━━━━━━━━━━━━━━━━━━━━━━━\u001b[0m \u001b[32m486.2/486.2 kB\u001b[0m \u001b[31m10.1 MB/s\u001b[0m eta \u001b[36m0:00:00\u001b[0m\n",
            "\u001b[?25hRequirement already satisfied: numpy>=1.17 in /usr/local/lib/python3.10/dist-packages (from datasets) (1.22.4)\n",
            "Requirement already satisfied: pyarrow>=8.0.0 in /usr/local/lib/python3.10/dist-packages (from datasets) (9.0.0)\n",
            "Collecting dill<0.3.7,>=0.3.0 (from datasets)\n",
            "  Downloading dill-0.3.6-py3-none-any.whl (110 kB)\n",
            "\u001b[2K     \u001b[90m━━━━━━━━━━━━━━━━━━━━━━━━━━━━━━━━━━━━━━\u001b[0m \u001b[32m110.5/110.5 kB\u001b[0m \u001b[31m10.8 MB/s\u001b[0m eta \u001b[36m0:00:00\u001b[0m\n",
            "\u001b[?25hRequirement already satisfied: pandas in /usr/local/lib/python3.10/dist-packages (from datasets) (1.5.3)\n",
            "Requirement already satisfied: requests>=2.19.0 in /usr/local/lib/python3.10/dist-packages (from datasets) (2.27.1)\n",
            "Requirement already satisfied: tqdm>=4.62.1 in /usr/local/lib/python3.10/dist-packages (from datasets) (4.65.0)\n",
            "Collecting xxhash (from datasets)\n",
            "  Downloading xxhash-3.2.0-cp310-cp310-manylinux_2_17_x86_64.manylinux2014_x86_64.whl (212 kB)\n",
            "\u001b[2K     \u001b[90m━━━━━━━━━━━━━━━━━━━━━━━━━━━━━━━━━━━━━━\u001b[0m \u001b[32m212.5/212.5 kB\u001b[0m \u001b[31m20.9 MB/s\u001b[0m eta \u001b[36m0:00:00\u001b[0m\n",
            "\u001b[?25hCollecting multiprocess (from datasets)\n",
            "  Downloading multiprocess-0.70.14-py310-none-any.whl (134 kB)\n",
            "\u001b[2K     \u001b[90m━━━━━━━━━━━━━━━━━━━━━━━━━━━━━━━━━━━━━━\u001b[0m \u001b[32m134.3/134.3 kB\u001b[0m \u001b[31m14.7 MB/s\u001b[0m eta \u001b[36m0:00:00\u001b[0m\n",
            "\u001b[?25hRequirement already satisfied: fsspec[http]>=2021.11.1 in /usr/local/lib/python3.10/dist-packages (from datasets) (2023.6.0)\n",
            "Requirement already satisfied: aiohttp in /usr/local/lib/python3.10/dist-packages (from datasets) (3.8.4)\n",
            "Collecting huggingface-hub<1.0.0,>=0.11.0 (from datasets)\n",
            "  Downloading huggingface_hub-0.15.1-py3-none-any.whl (236 kB)\n",
            "\u001b[2K     \u001b[90m━━━━━━━━━━━━━━━━━━━━━━━━━━━━━━━━━━━━━━\u001b[0m \u001b[32m236.8/236.8 kB\u001b[0m \u001b[31m21.9 MB/s\u001b[0m eta \u001b[36m0:00:00\u001b[0m\n",
            "\u001b[?25hRequirement already satisfied: packaging in /usr/local/lib/python3.10/dist-packages (from datasets) (23.1)\n",
            "Requirement already satisfied: pyyaml>=5.1 in /usr/local/lib/python3.10/dist-packages (from datasets) (6.0)\n",
            "Requirement already satisfied: attrs>=17.3.0 in /usr/local/lib/python3.10/dist-packages (from aiohttp->datasets) (23.1.0)\n",
            "Requirement already satisfied: charset-normalizer<4.0,>=2.0 in /usr/local/lib/python3.10/dist-packages (from aiohttp->datasets) (2.0.12)\n",
            "Requirement already satisfied: multidict<7.0,>=4.5 in /usr/local/lib/python3.10/dist-packages (from aiohttp->datasets) (6.0.4)\n",
            "Requirement already satisfied: async-timeout<5.0,>=4.0.0a3 in /usr/local/lib/python3.10/dist-packages (from aiohttp->datasets) (4.0.2)\n",
            "Requirement already satisfied: yarl<2.0,>=1.0 in /usr/local/lib/python3.10/dist-packages (from aiohttp->datasets) (1.9.2)\n",
            "Requirement already satisfied: frozenlist>=1.1.1 in /usr/local/lib/python3.10/dist-packages (from aiohttp->datasets) (1.3.3)\n",
            "Requirement already satisfied: aiosignal>=1.1.2 in /usr/local/lib/python3.10/dist-packages (from aiohttp->datasets) (1.3.1)\n",
            "Requirement already satisfied: filelock in /usr/local/lib/python3.10/dist-packages (from huggingface-hub<1.0.0,>=0.11.0->datasets) (3.12.2)\n",
            "Requirement already satisfied: typing-extensions>=3.7.4.3 in /usr/local/lib/python3.10/dist-packages (from huggingface-hub<1.0.0,>=0.11.0->datasets) (4.6.3)\n",
            "Requirement already satisfied: urllib3<1.27,>=1.21.1 in /usr/local/lib/python3.10/dist-packages (from requests>=2.19.0->datasets) (1.26.16)\n",
            "Requirement already satisfied: certifi>=2017.4.17 in /usr/local/lib/python3.10/dist-packages (from requests>=2.19.0->datasets) (2023.5.7)\n",
            "Requirement already satisfied: idna<4,>=2.5 in /usr/local/lib/python3.10/dist-packages (from requests>=2.19.0->datasets) (3.4)\n",
            "Requirement already satisfied: python-dateutil>=2.8.1 in /usr/local/lib/python3.10/dist-packages (from pandas->datasets) (2.8.2)\n",
            "Requirement already satisfied: pytz>=2020.1 in /usr/local/lib/python3.10/dist-packages (from pandas->datasets) (2022.7.1)\n",
            "Requirement already satisfied: six>=1.5 in /usr/local/lib/python3.10/dist-packages (from python-dateutil>=2.8.1->pandas->datasets) (1.16.0)\n",
            "Installing collected packages: xxhash, dill, multiprocess, huggingface-hub, datasets\n",
            "Successfully installed datasets-2.13.1 dill-0.3.6 huggingface-hub-0.15.1 multiprocess-0.70.14 xxhash-3.2.0\n"
          ]
        }
      ],
      "source": [
        "!pip install tensorflow_text\n",
        "!pip install datasets"
      ]
    },
    {
      "cell_type": "code",
      "execution_count": null,
      "metadata": {
        "colab": {
          "base_uri": "https://localhost:8080/"
        },
        "id": "gdWjZwGiK54v",
        "outputId": "dd409f29-1bb3-4fe6-f71c-80f6ba7a0a3b"
      },
      "outputs": [
        {
          "name": "stdout",
          "output_type": "stream",
          "text": [
            "\u001b[2K     \u001b[90m━━━━━━━━━━━━━━━━━━━━━━━━━━━━━━━━━━━━━━━━\u001b[0m \u001b[32m55.5/55.5 kB\u001b[0m \u001b[31m3.3 MB/s\u001b[0m eta \u001b[36m0:00:00\u001b[0m\n",
            "\u001b[2K     \u001b[90m━━━━━━━━━━━━━━━━━━━━━━━━━━━━━━━━━━━━━━━━\u001b[0m \u001b[32m1.6/1.6 MB\u001b[0m \u001b[31m27.8 MB/s\u001b[0m eta \u001b[36m0:00:00\u001b[0m\n",
            "\u001b[2K     \u001b[90m━━━━━━━━━━━━━━━━━━━━━━━━━━━━━━━━━━━━━━━━\u001b[0m \u001b[32m7.2/7.2 MB\u001b[0m \u001b[31m46.5 MB/s\u001b[0m eta \u001b[36m0:00:00\u001b[0m\n",
            "\u001b[2K     \u001b[90m━━━━━━━━━━━━━━━━━━━━━━━━━━━━━━━━━━━━━━━━\u001b[0m \u001b[32m7.8/7.8 MB\u001b[0m \u001b[31m58.3 MB/s\u001b[0m eta \u001b[36m0:00:00\u001b[0m\n",
            "\u001b[2K     \u001b[90m━━━━━━━━━━━━━━━━━━━━━━━━━━━━━━━━━━━━━━━━\u001b[0m \u001b[32m1.3/1.3 MB\u001b[0m \u001b[31m53.3 MB/s\u001b[0m eta \u001b[36m0:00:00\u001b[0m\n",
            "\u001b[?25h"
          ]
        }
      ],
      "source": [
        "!pip install -q -U watermark\n",
        "!pip install -qq transformers"
      ]
    },
    {
      "cell_type": "code",
      "execution_count": null,
      "metadata": {
        "id": "eUTuRsNKK8mr"
      },
      "outputs": [],
      "source": [
        "from transformers import AutoModelForSequenceClassification, BertForSequenceClassification\n",
        "from transformers import TFAutoModelForSequenceClassification\n",
        "from transformers import AutoTokenizer, BertModel, BertTokenizer, pipeline\n",
        "import numpy as np\n",
        "from scipy.special import softmax"
      ]
    },
    {
      "cell_type": "code",
      "execution_count": null,
      "metadata": {
        "id": "CpKlSozlLATB"
      },
      "outputs": [],
      "source": [
        "import torch\n",
        "import numpy as np\n",
        "import pandas as pd\n",
        "import seaborn as sns\n",
        "from pylab import rcParams\n",
        "import matplotlib.pyplot as plt\n",
        "from matplotlib import rc\n",
        "from sklearn.model_selection import train_test_split\n",
        "from sklearn.metrics import confusion_matrix, classification_report\n",
        "from collections import defaultdict\n",
        "from textwrap import wrap"
      ]
    },
    {
      "cell_type": "code",
      "execution_count": null,
      "metadata": {
        "id": "aAndWuJeLCvN"
      },
      "outputs": [],
      "source": [
        "from datasets import load_dataset"
      ]
    },
    {
      "cell_type": "code",
      "execution_count": null,
      "metadata": {
        "id": "9f-tiCqhLEf4"
      },
      "outputs": [],
      "source": [
        "from torch import nn, optim\n",
        "import torch.nn.functional as F"
      ]
    },
    {
      "cell_type": "code",
      "execution_count": null,
      "metadata": {
        "colab": {
          "base_uri": "https://localhost:8080/"
        },
        "id": "zeg90MlkNn1b",
        "outputId": "f4d8d596-d06a-44bd-c1a1-e388c8569b51"
      },
      "outputs": [
        {
          "name": "stdout",
          "output_type": "stream",
          "text": [
            "Downloading...\n",
            "From: https://drive.google.com/uc?id=1N60L3uA6fNyItlMvgA2Nqc-e-Wg2KZmq\n",
            "To: /content/model_state_cpu.bin\n",
            "100% 438M/438M [00:03<00:00, 111MB/s]\n"
          ]
        }
      ],
      "source": [
        "!gdown https://drive.google.com/uc?id=1N60L3uA6fNyItlMvgA2Nqc-e-Wg2KZmq"
      ]
    },
    {
      "cell_type": "markdown",
      "metadata": {
        "id": "co2rBCgOLKY7"
      },
      "source": [
        "### Load Dataset and visualize"
      ]
    },
    {
      "cell_type": "code",
      "execution_count": null,
      "metadata": {
        "colab": {
          "base_uri": "https://localhost:8080/",
          "height": 296
        },
        "id": "1Tk2BcPyLGPM",
        "outputId": "481aff67-59a2-4481-ea2c-a628a2e3f08a"
      },
      "outputs": [
        {
          "data": {
            "application/vnd.jupyter.widget-view+json": {
              "model_id": "2aab2e47f6454a2f9b87ed9dc214854c",
              "version_major": 2,
              "version_minor": 0
            },
            "text/plain": [
              "Downloading readme:   0%|          | 0.00/1.72k [00:00<?, ?B/s]"
            ]
          },
          "metadata": {},
          "output_type": "display_data"
        },
        {
          "name": "stdout",
          "output_type": "stream",
          "text": [
            "Downloading and preparing dataset csv/Sp1786--multilabel-sentiment-dataset to /root/.cache/huggingface/datasets/Sp1786___csv/Sp1786--multilabel-sentiment-dataset-ab4c76803db0efab/0.0.0/eea64c71ca8b46dd3f537ed218fc9bf495d5707789152eb2764f5c78fa66d59d...\n"
          ]
        },
        {
          "data": {
            "application/vnd.jupyter.widget-view+json": {
              "model_id": "69bdb2957bf1494684af38428094524c",
              "version_major": 2,
              "version_minor": 0
            },
            "text/plain": [
              "Downloading data files:   0%|          | 0/3 [00:00<?, ?it/s]"
            ]
          },
          "metadata": {},
          "output_type": "display_data"
        },
        {
          "data": {
            "application/vnd.jupyter.widget-view+json": {
              "model_id": "447a650285624f008631be5db19661b4",
              "version_major": 2,
              "version_minor": 0
            },
            "text/plain": [
              "Downloading data:   0%|          | 0.00/3.56M [00:00<?, ?B/s]"
            ]
          },
          "metadata": {},
          "output_type": "display_data"
        },
        {
          "data": {
            "application/vnd.jupyter.widget-view+json": {
              "model_id": "5aaac4efd2964ef3b9179dc91ddc7209",
              "version_major": 2,
              "version_minor": 0
            },
            "text/plain": [
              "Downloading data:   0%|          | 0.00/601k [00:00<?, ?B/s]"
            ]
          },
          "metadata": {},
          "output_type": "display_data"
        },
        {
          "data": {
            "application/vnd.jupyter.widget-view+json": {
              "model_id": "a32bb5acec904f8c989508589b1d0c4a",
              "version_major": 2,
              "version_minor": 0
            },
            "text/plain": [
              "Downloading data:   0%|          | 0.00/586k [00:00<?, ?B/s]"
            ]
          },
          "metadata": {},
          "output_type": "display_data"
        },
        {
          "data": {
            "application/vnd.jupyter.widget-view+json": {
              "model_id": "f21a94142f9940aba0ab5903cd74fce3",
              "version_major": 2,
              "version_minor": 0
            },
            "text/plain": [
              "Extracting data files:   0%|          | 0/3 [00:00<?, ?it/s]"
            ]
          },
          "metadata": {},
          "output_type": "display_data"
        },
        {
          "data": {
            "application/vnd.jupyter.widget-view+json": {
              "model_id": "645685f0b9be4ff4baa1ff2f22052c49",
              "version_major": 2,
              "version_minor": 0
            },
            "text/plain": [
              "Generating train split: 0 examples [00:00, ? examples/s]"
            ]
          },
          "metadata": {},
          "output_type": "display_data"
        },
        {
          "data": {
            "application/vnd.jupyter.widget-view+json": {
              "model_id": "64f840ce170449fe9820e7cad063615c",
              "version_major": 2,
              "version_minor": 0
            },
            "text/plain": [
              "Generating validation split: 0 examples [00:00, ? examples/s]"
            ]
          },
          "metadata": {},
          "output_type": "display_data"
        },
        {
          "data": {
            "application/vnd.jupyter.widget-view+json": {
              "model_id": "c29e985555fd4bd991cec3e94b5113d8",
              "version_major": 2,
              "version_minor": 0
            },
            "text/plain": [
              "Generating test split: 0 examples [00:00, ? examples/s]"
            ]
          },
          "metadata": {},
          "output_type": "display_data"
        },
        {
          "name": "stdout",
          "output_type": "stream",
          "text": [
            "Dataset csv downloaded and prepared to /root/.cache/huggingface/datasets/Sp1786___csv/Sp1786--multilabel-sentiment-dataset-ab4c76803db0efab/0.0.0/eea64c71ca8b46dd3f537ed218fc9bf495d5707789152eb2764f5c78fa66d59d. Subsequent calls will reuse this data.\n"
          ]
        },
        {
          "data": {
            "application/vnd.jupyter.widget-view+json": {
              "model_id": "123464cd74824116a3576f0c04942ba1",
              "version_major": 2,
              "version_minor": 0
            },
            "text/plain": [
              "  0%|          | 0/3 [00:00<?, ?it/s]"
            ]
          },
          "metadata": {},
          "output_type": "display_data"
        }
      ],
      "source": [
        "datasets = load_dataset('Sp1786/multilabel-sentiment-dataset')"
      ]
    },
    {
      "cell_type": "code",
      "execution_count": null,
      "metadata": {
        "id": "gFp8Y66aLOoj"
      },
      "outputs": [],
      "source": [
        "train_ds = datasets['train']\n",
        "val_ds = datasets['validation']\n",
        "test_ds = datasets['test']"
      ]
    },
    {
      "cell_type": "code",
      "execution_count": null,
      "metadata": {
        "colab": {
          "base_uri": "https://localhost:8080/",
          "height": 206
        },
        "id": "Ls6b79KILQxQ",
        "outputId": "8b74bb5c-db6a-4474-b78b-3905d7b17e62"
      },
      "outputs": [
        {
          "data": {
            "text/html": [
              "\n",
              "  <div id=\"df-e214e92a-7acb-4db5-b331-80ce917bb7c5\">\n",
              "    <div class=\"colab-df-container\">\n",
              "      <div>\n",
              "<style scoped>\n",
              "    .dataframe tbody tr th:only-of-type {\n",
              "        vertical-align: middle;\n",
              "    }\n",
              "\n",
              "    .dataframe tbody tr th {\n",
              "        vertical-align: top;\n",
              "    }\n",
              "\n",
              "    .dataframe thead th {\n",
              "        text-align: right;\n",
              "    }\n",
              "</style>\n",
              "<table border=\"1\" class=\"dataframe\">\n",
              "  <thead>\n",
              "    <tr style=\"text-align: right;\">\n",
              "      <th></th>\n",
              "      <th>id</th>\n",
              "      <th>text</th>\n",
              "      <th>label</th>\n",
              "      <th>sentiment</th>\n",
              "    </tr>\n",
              "  </thead>\n",
              "  <tbody>\n",
              "    <tr>\n",
              "      <th>0</th>\n",
              "      <td>9536</td>\n",
              "      <td>Cooking microwave pizzas, yummy</td>\n",
              "      <td>2</td>\n",
              "      <td>positive</td>\n",
              "    </tr>\n",
              "    <tr>\n",
              "      <th>1</th>\n",
              "      <td>6135</td>\n",
              "      <td>Any plans of allowing sub tasks to show up in ...</td>\n",
              "      <td>1</td>\n",
              "      <td>neutral</td>\n",
              "    </tr>\n",
              "    <tr>\n",
              "      <th>2</th>\n",
              "      <td>17697</td>\n",
              "      <td>I love the humor, I just reworded it. Like sa...</td>\n",
              "      <td>2</td>\n",
              "      <td>positive</td>\n",
              "    </tr>\n",
              "    <tr>\n",
              "      <th>3</th>\n",
              "      <td>14182</td>\n",
              "      <td>naw idk what ur talkin about</td>\n",
              "      <td>1</td>\n",
              "      <td>neutral</td>\n",
              "    </tr>\n",
              "    <tr>\n",
              "      <th>4</th>\n",
              "      <td>17840</td>\n",
              "      <td>That sucks to hear. I hate days like that</td>\n",
              "      <td>0</td>\n",
              "      <td>negative</td>\n",
              "    </tr>\n",
              "  </tbody>\n",
              "</table>\n",
              "</div>\n",
              "      <button class=\"colab-df-convert\" onclick=\"convertToInteractive('df-e214e92a-7acb-4db5-b331-80ce917bb7c5')\"\n",
              "              title=\"Convert this dataframe to an interactive table.\"\n",
              "              style=\"display:none;\">\n",
              "        \n",
              "  <svg xmlns=\"http://www.w3.org/2000/svg\" height=\"24px\"viewBox=\"0 0 24 24\"\n",
              "       width=\"24px\">\n",
              "    <path d=\"M0 0h24v24H0V0z\" fill=\"none\"/>\n",
              "    <path d=\"M18.56 5.44l.94 2.06.94-2.06 2.06-.94-2.06-.94-.94-2.06-.94 2.06-2.06.94zm-11 1L8.5 8.5l.94-2.06 2.06-.94-2.06-.94L8.5 2.5l-.94 2.06-2.06.94zm10 10l.94 2.06.94-2.06 2.06-.94-2.06-.94-.94-2.06-.94 2.06-2.06.94z\"/><path d=\"M17.41 7.96l-1.37-1.37c-.4-.4-.92-.59-1.43-.59-.52 0-1.04.2-1.43.59L10.3 9.45l-7.72 7.72c-.78.78-.78 2.05 0 2.83L4 21.41c.39.39.9.59 1.41.59.51 0 1.02-.2 1.41-.59l7.78-7.78 2.81-2.81c.8-.78.8-2.07 0-2.86zM5.41 20L4 18.59l7.72-7.72 1.47 1.35L5.41 20z\"/>\n",
              "  </svg>\n",
              "      </button>\n",
              "      \n",
              "  <style>\n",
              "    .colab-df-container {\n",
              "      display:flex;\n",
              "      flex-wrap:wrap;\n",
              "      gap: 12px;\n",
              "    }\n",
              "\n",
              "    .colab-df-convert {\n",
              "      background-color: #E8F0FE;\n",
              "      border: none;\n",
              "      border-radius: 50%;\n",
              "      cursor: pointer;\n",
              "      display: none;\n",
              "      fill: #1967D2;\n",
              "      height: 32px;\n",
              "      padding: 0 0 0 0;\n",
              "      width: 32px;\n",
              "    }\n",
              "\n",
              "    .colab-df-convert:hover {\n",
              "      background-color: #E2EBFA;\n",
              "      box-shadow: 0px 1px 2px rgba(60, 64, 67, 0.3), 0px 1px 3px 1px rgba(60, 64, 67, 0.15);\n",
              "      fill: #174EA6;\n",
              "    }\n",
              "\n",
              "    [theme=dark] .colab-df-convert {\n",
              "      background-color: #3B4455;\n",
              "      fill: #D2E3FC;\n",
              "    }\n",
              "\n",
              "    [theme=dark] .colab-df-convert:hover {\n",
              "      background-color: #434B5C;\n",
              "      box-shadow: 0px 1px 3px 1px rgba(0, 0, 0, 0.15);\n",
              "      filter: drop-shadow(0px 1px 2px rgba(0, 0, 0, 0.3));\n",
              "      fill: #FFFFFF;\n",
              "    }\n",
              "  </style>\n",
              "\n",
              "      <script>\n",
              "        const buttonEl =\n",
              "          document.querySelector('#df-e214e92a-7acb-4db5-b331-80ce917bb7c5 button.colab-df-convert');\n",
              "        buttonEl.style.display =\n",
              "          google.colab.kernel.accessAllowed ? 'block' : 'none';\n",
              "\n",
              "        async function convertToInteractive(key) {\n",
              "          const element = document.querySelector('#df-e214e92a-7acb-4db5-b331-80ce917bb7c5');\n",
              "          const dataTable =\n",
              "            await google.colab.kernel.invokeFunction('convertToInteractive',\n",
              "                                                     [key], {});\n",
              "          if (!dataTable) return;\n",
              "\n",
              "          const docLinkHtml = 'Like what you see? Visit the ' +\n",
              "            '<a target=\"_blank\" href=https://colab.research.google.com/notebooks/data_table.ipynb>data table notebook</a>'\n",
              "            + ' to learn more about interactive tables.';\n",
              "          element.innerHTML = '';\n",
              "          dataTable['output_type'] = 'display_data';\n",
              "          await google.colab.output.renderOutput(dataTable, element);\n",
              "          const docLink = document.createElement('div');\n",
              "          docLink.innerHTML = docLinkHtml;\n",
              "          element.appendChild(docLink);\n",
              "        }\n",
              "      </script>\n",
              "    </div>\n",
              "  </div>\n",
              "  "
            ],
            "text/plain": [
              "      id                                               text  label sentiment\n",
              "0   9536                    Cooking microwave pizzas, yummy      2  positive\n",
              "1   6135  Any plans of allowing sub tasks to show up in ...      1   neutral\n",
              "2  17697   I love the humor, I just reworded it. Like sa...      2  positive\n",
              "3  14182                       naw idk what ur talkin about      1   neutral\n",
              "4  17840          That sucks to hear. I hate days like that      0  negative"
            ]
          },
          "execution_count": 10,
          "metadata": {},
          "output_type": "execute_result"
        }
      ],
      "source": [
        "train_df = pd. DataFrame(train_ds)\n",
        "train_df.head()"
      ]
    },
    {
      "cell_type": "code",
      "execution_count": null,
      "metadata": {
        "colab": {
          "base_uri": "https://localhost:8080/",
          "height": 484
        },
        "id": "7eFbDeVnLS3r",
        "outputId": "f81565cd-0cc1-4268-fcb7-fdabc00e2d80"
      },
      "outputs": [
        {
          "name": "stdout",
          "output_type": "stream",
          "text": [
            "{1: 11649, 2: 10478, 0: 9105}\n"
          ]
        },
        {
          "data": {
            "text/plain": [
              "<Axes: xlabel='sentiment', ylabel='count'>"
            ]
          },
          "execution_count": 11,
          "metadata": {},
          "output_type": "execute_result"
        },
        {
          "data": {
            "image/png": "[encoded data removed]",
            "text/plain": [
              "<Figure size 640x480 with 1 Axes>"
            ]
          },
          "metadata": {},
          "output_type": "display_data"
        }
      ],
      "source": [
        "counts = train_df.label.value_counts().to_dict()\n",
        "print(counts)\n",
        "sns.countplot(data=train_df, x='sentiment', hue=\"sentiment\")"
      ]
    },
    {
      "cell_type": "code",
      "execution_count": null,
      "metadata": {
        "colab": {
          "base_uri": "https://localhost:8080/",
          "height": 206
        },
        "id": "F8rl6MtCLVjH",
        "outputId": "9841cd4c-cd06-4fca-fa3b-8347d810de5f"
      },
      "outputs": [
        {
          "data": {
            "text/html": [
              "\n",
              "  <div id=\"df-9e371912-650b-4acd-9056-95712ddbb52b\">\n",
              "    <div class=\"colab-df-container\">\n",
              "      <div>\n",
              "<style scoped>\n",
              "    .dataframe tbody tr th:only-of-type {\n",
              "        vertical-align: middle;\n",
              "    }\n",
              "\n",
              "    .dataframe tbody tr th {\n",
              "        vertical-align: top;\n",
              "    }\n",
              "\n",
              "    .dataframe thead th {\n",
              "        text-align: right;\n",
              "    }\n",
              "</style>\n",
              "<table border=\"1\" class=\"dataframe\">\n",
              "  <thead>\n",
              "    <tr style=\"text-align: right;\">\n",
              "      <th></th>\n",
              "      <th>id</th>\n",
              "      <th>text</th>\n",
              "      <th>label</th>\n",
              "      <th>sentiment</th>\n",
              "    </tr>\n",
              "  </thead>\n",
              "  <tbody>\n",
              "    <tr>\n",
              "      <th>0</th>\n",
              "      <td>317</td>\n",
              "      <td>Laying in bed til workkk... Oh the life. Defin...</td>\n",
              "      <td>0</td>\n",
              "      <td>negative</td>\n",
              "    </tr>\n",
              "    <tr>\n",
              "      <th>1</th>\n",
              "      <td>24292</td>\n",
              "      <td>ooohhh imma need you to get on that asap love...</td>\n",
              "      <td>2</td>\n",
              "      <td>positive</td>\n",
              "    </tr>\n",
              "    <tr>\n",
              "      <th>2</th>\n",
              "      <td>3513</td>\n",
              "      <td>Thanks! I love it they have a video, so you d...</td>\n",
              "      <td>2</td>\n",
              "      <td>positive</td>\n",
              "    </tr>\n",
              "    <tr>\n",
              "      <th>3</th>\n",
              "      <td>4322</td>\n",
              "      <td>I left my ipod in the car so now its all warm.</td>\n",
              "      <td>2</td>\n",
              "      <td>positive</td>\n",
              "    </tr>\n",
              "    <tr>\n",
              "      <th>4</th>\n",
              "      <td>6203</td>\n",
              "      <td>Great app. Only complaint is that I'd like the...</td>\n",
              "      <td>2</td>\n",
              "      <td>positive</td>\n",
              "    </tr>\n",
              "  </tbody>\n",
              "</table>\n",
              "</div>\n",
              "      <button class=\"colab-df-convert\" onclick=\"convertToInteractive('df-9e371912-650b-4acd-9056-95712ddbb52b')\"\n",
              "              title=\"Convert this dataframe to an interactive table.\"\n",
              "              style=\"display:none;\">\n",
              "        \n",
              "  <svg xmlns=\"http://www.w3.org/2000/svg\" height=\"24px\"viewBox=\"0 0 24 24\"\n",
              "       width=\"24px\">\n",
              "    <path d=\"M0 0h24v24H0V0z\" fill=\"none\"/>\n",
              "    <path d=\"M18.56 5.44l.94 2.06.94-2.06 2.06-.94-2.06-.94-.94-2.06-.94 2.06-2.06.94zm-11 1L8.5 8.5l.94-2.06 2.06-.94-2.06-.94L8.5 2.5l-.94 2.06-2.06.94zm10 10l.94 2.06.94-2.06 2.06-.94-2.06-.94-.94-2.06-.94 2.06-2.06.94z\"/><path d=\"M17.41 7.96l-1.37-1.37c-.4-.4-.92-.59-1.43-.59-.52 0-1.04.2-1.43.59L10.3 9.45l-7.72 7.72c-.78.78-.78 2.05 0 2.83L4 21.41c.39.39.9.59 1.41.59.51 0 1.02-.2 1.41-.59l7.78-7.78 2.81-2.81c.8-.78.8-2.07 0-2.86zM5.41 20L4 18.59l7.72-7.72 1.47 1.35L5.41 20z\"/>\n",
              "  </svg>\n",
              "      </button>\n",
              "      \n",
              "  <style>\n",
              "    .colab-df-container {\n",
              "      display:flex;\n",
              "      flex-wrap:wrap;\n",
              "      gap: 12px;\n",
              "    }\n",
              "\n",
              "    .colab-df-convert {\n",
              "      background-color: #E8F0FE;\n",
              "      border: none;\n",
              "      border-radius: 50%;\n",
              "      cursor: pointer;\n",
              "      display: none;\n",
              "      fill: #1967D2;\n",
              "      height: 32px;\n",
              "      padding: 0 0 0 0;\n",
              "      width: 32px;\n",
              "    }\n",
              "\n",
              "    .colab-df-convert:hover {\n",
              "      background-color: #E2EBFA;\n",
              "      box-shadow: 0px 1px 2px rgba(60, 64, 67, 0.3), 0px 1px 3px 1px rgba(60, 64, 67, 0.15);\n",
              "      fill: #174EA6;\n",
              "    }\n",
              "\n",
              "    [theme=dark] .colab-df-convert {\n",
              "      background-color: #3B4455;\n",
              "      fill: #D2E3FC;\n",
              "    }\n",
              "\n",
              "    [theme=dark] .colab-df-convert:hover {\n",
              "      background-color: #434B5C;\n",
              "      box-shadow: 0px 1px 3px 1px rgba(0, 0, 0, 0.15);\n",
              "      filter: drop-shadow(0px 1px 2px rgba(0, 0, 0, 0.3));\n",
              "      fill: #FFFFFF;\n",
              "    }\n",
              "  </style>\n",
              "\n",
              "      <script>\n",
              "        const buttonEl =\n",
              "          document.querySelector('#df-9e371912-650b-4acd-9056-95712ddbb52b button.colab-df-convert');\n",
              "        buttonEl.style.display =\n",
              "          google.colab.kernel.accessAllowed ? 'block' : 'none';\n",
              "\n",
              "        async function convertToInteractive(key) {\n",
              "          const element = document.querySelector('#df-9e371912-650b-4acd-9056-95712ddbb52b');\n",
              "          const dataTable =\n",
              "            await google.colab.kernel.invokeFunction('convertToInteractive',\n",
              "                                                     [key], {});\n",
              "          if (!dataTable) return;\n",
              "\n",
              "          const docLinkHtml = 'Like what you see? Visit the ' +\n",
              "            '<a target=\"_blank\" href=https://colab.research.google.com/notebooks/data_table.ipynb>data table notebook</a>'\n",
              "            + ' to learn more about interactive tables.';\n",
              "          element.innerHTML = '';\n",
              "          dataTable['output_type'] = 'display_data';\n",
              "          await google.colab.output.renderOutput(dataTable, element);\n",
              "          const docLink = document.createElement('div');\n",
              "          docLink.innerHTML = docLinkHtml;\n",
              "          element.appendChild(docLink);\n",
              "        }\n",
              "      </script>\n",
              "    </div>\n",
              "  </div>\n",
              "  "
            ],
            "text/plain": [
              "      id                                               text  label sentiment\n",
              "0    317  Laying in bed til workkk... Oh the life. Defin...      0  negative\n",
              "1  24292   ooohhh imma need you to get on that asap love...      2  positive\n",
              "2   3513   Thanks! I love it they have a video, so you d...      2  positive\n",
              "3   4322     I left my ipod in the car so now its all warm.      2  positive\n",
              "4   6203  Great app. Only complaint is that I'd like the...      2  positive"
            ]
          },
          "execution_count": 12,
          "metadata": {},
          "output_type": "execute_result"
        }
      ],
      "source": [
        "val_df = pd. DataFrame(val_ds)\n",
        "val_df.head()"
      ]
    },
    {
      "cell_type": "code",
      "execution_count": null,
      "metadata": {
        "colab": {
          "base_uri": "https://localhost:8080/",
          "height": 485
        },
        "id": "ELJaoIaQLXpQ",
        "outputId": "e3748f84-6b82-475e-cde3-2b40198e2632"
      },
      "outputs": [
        {
          "name": "stdout",
          "output_type": "stream",
          "text": [
            "{1: 11649, 2: 10478, 0: 9105}\n"
          ]
        },
        {
          "data": {
            "text/plain": [
              "<Axes: xlabel='sentiment', ylabel='count'>"
            ]
          },
          "execution_count": 13,
          "metadata": {},
          "output_type": "execute_result"
        },
        {
          "data": {
            "image/png": "[encoded data removed]",
            "text/plain": [
              "<Figure size 640x480 with 1 Axes>"
            ]
          },
          "metadata": {},
          "output_type": "display_data"
        }
      ],
      "source": [
        "print(counts)\n",
        "sns.countplot(data=val_df, x='sentiment', hue=\"sentiment\")"
      ]
    },
    {
      "cell_type": "code",
      "execution_count": null,
      "metadata": {
        "colab": {
          "base_uri": "https://localhost:8080/",
          "height": 206
        },
        "id": "ZivCSYx5LZq4",
        "outputId": "76b17095-e2c5-44c1-883f-2019fb71cd73"
      },
      "outputs": [
        {
          "data": {
            "text/html": [
              "\n",
              "  <div id=\"df-934192d7-a258-46e8-8b25-f6a0bb4a1832\">\n",
              "    <div class=\"colab-df-container\">\n",
              "      <div>\n",
              "<style scoped>\n",
              "    .dataframe tbody tr th:only-of-type {\n",
              "        vertical-align: middle;\n",
              "    }\n",
              "\n",
              "    .dataframe tbody tr th {\n",
              "        vertical-align: top;\n",
              "    }\n",
              "\n",
              "    .dataframe thead th {\n",
              "        text-align: right;\n",
              "    }\n",
              "</style>\n",
              "<table border=\"1\" class=\"dataframe\">\n",
              "  <thead>\n",
              "    <tr style=\"text-align: right;\">\n",
              "      <th></th>\n",
              "      <th>id</th>\n",
              "      <th>text</th>\n",
              "      <th>label</th>\n",
              "      <th>sentiment</th>\n",
              "    </tr>\n",
              "  </thead>\n",
              "  <tbody>\n",
              "    <tr>\n",
              "      <th>0</th>\n",
              "      <td>9235</td>\n",
              "      <td>getting cds ready for tour</td>\n",
              "      <td>1</td>\n",
              "      <td>neutral</td>\n",
              "    </tr>\n",
              "    <tr>\n",
              "      <th>1</th>\n",
              "      <td>16790</td>\n",
              "      <td>MC, happy mother`s day to your mom ;).. love yah</td>\n",
              "      <td>2</td>\n",
              "      <td>positive</td>\n",
              "    </tr>\n",
              "    <tr>\n",
              "      <th>2</th>\n",
              "      <td>24840</td>\n",
              "      <td>A year from now is graduation....i am pretty s...</td>\n",
              "      <td>0</td>\n",
              "      <td>negative</td>\n",
              "    </tr>\n",
              "    <tr>\n",
              "      <th>3</th>\n",
              "      <td>20744</td>\n",
              "      <td>because you had chips and sale w/o me</td>\n",
              "      <td>1</td>\n",
              "      <td>neutral</td>\n",
              "    </tr>\n",
              "    <tr>\n",
              "      <th>4</th>\n",
              "      <td>6414</td>\n",
              "      <td>Great for organising my work life balance</td>\n",
              "      <td>2</td>\n",
              "      <td>positive</td>\n",
              "    </tr>\n",
              "  </tbody>\n",
              "</table>\n",
              "</div>\n",
              "      <button class=\"colab-df-convert\" onclick=\"convertToInteractive('df-934192d7-a258-46e8-8b25-f6a0bb4a1832')\"\n",
              "              title=\"Convert this dataframe to an interactive table.\"\n",
              "              style=\"display:none;\">\n",
              "        \n",
              "  <svg xmlns=\"http://www.w3.org/2000/svg\" height=\"24px\"viewBox=\"0 0 24 24\"\n",
              "       width=\"24px\">\n",
              "    <path d=\"M0 0h24v24H0V0z\" fill=\"none\"/>\n",
              "    <path d=\"M18.56 5.44l.94 2.06.94-2.06 2.06-.94-2.06-.94-.94-2.06-.94 2.06-2.06.94zm-11 1L8.5 8.5l.94-2.06 2.06-.94-2.06-.94L8.5 2.5l-.94 2.06-2.06.94zm10 10l.94 2.06.94-2.06 2.06-.94-2.06-.94-.94-2.06-.94 2.06-2.06.94z\"/><path d=\"M17.41 7.96l-1.37-1.37c-.4-.4-.92-.59-1.43-.59-.52 0-1.04.2-1.43.59L10.3 9.45l-7.72 7.72c-.78.78-.78 2.05 0 2.83L4 21.41c.39.39.9.59 1.41.59.51 0 1.02-.2 1.41-.59l7.78-7.78 2.81-2.81c.8-.78.8-2.07 0-2.86zM5.41 20L4 18.59l7.72-7.72 1.47 1.35L5.41 20z\"/>\n",
              "  </svg>\n",
              "      </button>\n",
              "      \n",
              "  <style>\n",
              "    .colab-df-container {\n",
              "      display:flex;\n",
              "      flex-wrap:wrap;\n",
              "      gap: 12px;\n",
              "    }\n",
              "\n",
              "    .colab-df-convert {\n",
              "      background-color: #E8F0FE;\n",
              "      border: none;\n",
              "      border-radius: 50%;\n",
              "      cursor: pointer;\n",
              "      display: none;\n",
              "      fill: #1967D2;\n",
              "      height: 32px;\n",
              "      padding: 0 0 0 0;\n",
              "      width: 32px;\n",
              "    }\n",
              "\n",
              "    .colab-df-convert:hover {\n",
              "      background-color: #E2EBFA;\n",
              "      box-shadow: 0px 1px 2px rgba(60, 64, 67, 0.3), 0px 1px 3px 1px rgba(60, 64, 67, 0.15);\n",
              "      fill: #174EA6;\n",
              "    }\n",
              "\n",
              "    [theme=dark] .colab-df-convert {\n",
              "      background-color: #3B4455;\n",
              "      fill: #D2E3FC;\n",
              "    }\n",
              "\n",
              "    [theme=dark] .colab-df-convert:hover {\n",
              "      background-color: #434B5C;\n",
              "      box-shadow: 0px 1px 3px 1px rgba(0, 0, 0, 0.15);\n",
              "      filter: drop-shadow(0px 1px 2px rgba(0, 0, 0, 0.3));\n",
              "      fill: #FFFFFF;\n",
              "    }\n",
              "  </style>\n",
              "\n",
              "      <script>\n",
              "        const buttonEl =\n",
              "          document.querySelector('#df-934192d7-a258-46e8-8b25-f6a0bb4a1832 button.colab-df-convert');\n",
              "        buttonEl.style.display =\n",
              "          google.colab.kernel.accessAllowed ? 'block' : 'none';\n",
              "\n",
              "        async function convertToInteractive(key) {\n",
              "          const element = document.querySelector('#df-934192d7-a258-46e8-8b25-f6a0bb4a1832');\n",
              "          const dataTable =\n",
              "            await google.colab.kernel.invokeFunction('convertToInteractive',\n",
              "                                                     [key], {});\n",
              "          if (!dataTable) return;\n",
              "\n",
              "          const docLinkHtml = 'Like what you see? Visit the ' +\n",
              "            '<a target=\"_blank\" href=https://colab.research.google.com/notebooks/data_table.ipynb>data table notebook</a>'\n",
              "            + ' to learn more about interactive tables.';\n",
              "          element.innerHTML = '';\n",
              "          dataTable['output_type'] = 'display_data';\n",
              "          await google.colab.output.renderOutput(dataTable, element);\n",
              "          const docLink = document.createElement('div');\n",
              "          docLink.innerHTML = docLinkHtml;\n",
              "          element.appendChild(docLink);\n",
              "        }\n",
              "      </script>\n",
              "    </div>\n",
              "  </div>\n",
              "  "
            ],
            "text/plain": [
              "      id                                               text  label sentiment\n",
              "0   9235                         getting cds ready for tour      1   neutral\n",
              "1  16790   MC, happy mother`s day to your mom ;).. love yah      2  positive\n",
              "2  24840  A year from now is graduation....i am pretty s...      0  negative\n",
              "3  20744              because you had chips and sale w/o me      1   neutral\n",
              "4   6414          Great for organising my work life balance      2  positive"
            ]
          },
          "execution_count": 14,
          "metadata": {},
          "output_type": "execute_result"
        }
      ],
      "source": [
        "test_df = pd. DataFrame(test_ds)\n",
        "test_df.head()"
      ]
    },
    {
      "cell_type": "code",
      "execution_count": null,
      "metadata": {
        "colab": {
          "base_uri": "https://localhost:8080/",
          "height": 485
        },
        "id": "RgMiLuFCLcLG",
        "outputId": "8cc03f0d-299c-4c6f-9700-e220db030330"
      },
      "outputs": [
        {
          "name": "stdout",
          "output_type": "stream",
          "text": [
            "{1: 11649, 2: 10478, 0: 9105}\n"
          ]
        },
        {
          "data": {
            "text/plain": [
              "<Axes: xlabel='sentiment', ylabel='count'>"
            ]
          },
          "execution_count": 15,
          "metadata": {},
          "output_type": "execute_result"
        },
        {
          "data": {
            "image/png": "[encoded data removed]",
            "text/plain": [
              "<Figure size 640x480 with 1 Axes>"
            ]
          },
          "metadata": {},
          "output_type": "display_data"
        }
      ],
      "source": [
        "print(counts)\n",
        "sns.countplot(data=test_df, x='sentiment', hue=\"sentiment\")"
      ]
    },
    {
      "cell_type": "markdown",
      "metadata": {
        "id": "UBwwjqlaLkjv"
      },
      "source": [
        "### Data Pre-Processing"
      ]
    },
    {
      "cell_type": "code",
      "execution_count": null,
      "metadata": {
        "colab": {
          "base_uri": "https://localhost:8080/"
        },
        "id": "9RDP29G7Lflg",
        "outputId": "7e909d76-d93e-4cb9-cc81-d021fe248bad"
      },
      "outputs": [
        {
          "name": "stdout",
          "output_type": "stream",
          "text": [
            "id           0\n",
            "text         0\n",
            "label        0\n",
            "sentiment    0\n",
            "dtype: int64\n",
            "id           0\n",
            "text         0\n",
            "label        0\n",
            "sentiment    0\n",
            "dtype: int64\n",
            "id           0\n",
            "text         1\n",
            "label        0\n",
            "sentiment    0\n",
            "dtype: int64\n"
          ]
        }
      ],
      "source": [
        "print(train_df.isnull().sum())\n",
        "print(val_df.isnull().sum())\n",
        "print(test_df.isnull().sum())"
      ]
    },
    {
      "cell_type": "code",
      "execution_count": null,
      "metadata": {
        "id": "sPs157grLmaI"
      },
      "outputs": [],
      "source": [
        "# train_df = train_df.dropna()\n",
        "# val_df = val_df.dropna()\n",
        "test_df = test_df.dropna()"
      ]
    },
    {
      "cell_type": "code",
      "execution_count": null,
      "metadata": {
        "colab": {
          "base_uri": "https://localhost:8080/"
        },
        "id": "P7t1W5XiLpI5",
        "outputId": "dd5a05d7-3e5a-42ee-834b-116659a5d7d4"
      },
      "outputs": [
        {
          "name": "stdout",
          "output_type": "stream",
          "text": [
            "Empty DataFrame\n",
            "Columns: [id, text, label, sentiment]\n",
            "Index: []\n",
            "Empty DataFrame\n",
            "Columns: [id, text, label, sentiment]\n",
            "Index: []\n",
            "Empty DataFrame\n",
            "Columns: [id, text, label, sentiment]\n",
            "Index: []\n"
          ]
        }
      ],
      "source": [
        "print(train_df[train_df['text']==''])\n",
        "print(val_df[val_df['text']==''])\n",
        "print(test_df[test_df['text']==''])"
      ]
    },
    {
      "cell_type": "code",
      "execution_count": null,
      "metadata": {
        "colab": {
          "base_uri": "https://localhost:8080/"
        },
        "id": "mbAAZGVlLqzB",
        "outputId": "9be8562c-cd84-4268-943a-648da48bd239"
      },
      "outputs": [
        {
          "name": "stdout",
          "output_type": "stream",
          "text": [
            "id           0\n",
            "text         0\n",
            "label        0\n",
            "sentiment    0\n",
            "dtype: int64\n"
          ]
        }
      ],
      "source": [
        "# print(train_df.isnull().sum())\n",
        "# print(val_df.isnull().sum())\n",
        "print(test_df.isnull().sum())"
      ]
    },
    {
      "cell_type": "code",
      "execution_count": null,
      "metadata": {
        "colab": {
          "base_uri": "https://localhost:8080/",
          "height": 447
        },
        "id": "EjHYaHKkLwEt",
        "outputId": "c1e6985b-1604-4d5d-d575-e0ef7596c57d"
      },
      "outputs": [
        {
          "data": {
            "text/plain": [
              "<Axes: ylabel='Density'>"
            ]
          },
          "execution_count": 20,
          "metadata": {},
          "output_type": "execute_result"
        },
        {
          "data": {
            "image/png": "[encoded data removed]",
            "text/plain": [
              "<Figure size 640x480 with 1 Axes>"
            ]
          },
          "metadata": {},
          "output_type": "display_data"
        }
      ],
      "source": [
        "train_df.label.plot.kde()"
      ]
    },
    {
      "cell_type": "code",
      "execution_count": null,
      "metadata": {
        "colab": {
          "base_uri": "https://localhost:8080/",
          "height": 447
        },
        "id": "K7PxxkUkLx25",
        "outputId": "28232fde-bd56-49ad-e56b-a2fd733d842e"
      },
      "outputs": [
        {
          "data": {
            "text/plain": [
              "<Axes: ylabel='Density'>"
            ]
          },
          "execution_count": 21,
          "metadata": {},
          "output_type": "execute_result"
        },
        {
          "data": {
            "image/png": "[encoded data removed]",
            "text/plain": [
              "<Figure size 640x480 with 1 Axes>"
            ]
          },
          "metadata": {},
          "output_type": "display_data"
        }
      ],
      "source": [
        "val_df.label.plot.kde()"
      ]
    },
    {
      "cell_type": "code",
      "execution_count": null,
      "metadata": {
        "colab": {
          "base_uri": "https://localhost:8080/",
          "height": 447
        },
        "id": "TA9v9_xNLzvp",
        "outputId": "39d55734-2e3f-4092-8a75-a8bac3144908"
      },
      "outputs": [
        {
          "data": {
            "text/plain": [
              "<Axes: ylabel='Density'>"
            ]
          },
          "execution_count": 22,
          "metadata": {},
          "output_type": "execute_result"
        },
        {
          "data": {
            "image/png": "[encoded data removed]",
            "text/plain": [
              "<Figure size 640x480 with 1 Axes>"
            ]
          },
          "metadata": {},
          "output_type": "display_data"
        }
      ],
      "source": [
        "test_df.label.plot.kde()"
      ]
    },
    {
      "cell_type": "code",
      "execution_count": null,
      "metadata": {
        "id": "v8ERjCEwMXzi"
      },
      "outputs": [],
      "source": [
        "import re\n",
        "def process_text(text):\n",
        "    text = str(text)\n",
        "    TAG_RE = re.compile(r'<[^>]+>')\n",
        "    # Removing html tags\n",
        "    text = TAG_RE.sub('', text)\n",
        "\n",
        "    # Remove punctuations and numbers\n",
        "    text = re.sub('[^a-zA-Z]', ' ', text)\n",
        "\n",
        "    # Single character removal\n",
        "    sentence = re.sub(r\"s+[a-zA-Z]s+\", ' ', text)\n",
        "    text = re.sub(r'[^\\w\\s\\']', '', text)\n",
        "    text = re.sub(' +', ' ', text).lower()\n",
        "    # Removing multiple spaces\n",
        "    sentence = ' '.join([word for word in sentence.split() if len(word) > 1])\n",
        "    return text"
      ]
    },
    {
      "cell_type": "code",
      "execution_count": null,
      "metadata": {
        "id": "VjgQAwUcMbPj"
      },
      "outputs": [],
      "source": [
        "test_df.text = test_df.text.apply(process_text)"
      ]
    },
    {
      "cell_type": "code",
      "execution_count": null,
      "metadata": {
        "colab": {
          "base_uri": "https://localhost:8080/",
          "height": 113
        },
        "id": "muv5cZBzOPDf",
        "outputId": "f31c71ed-963a-4155-d1b0-c2b5deda1f53"
      },
      "outputs": [
        {
          "data": {
            "application/vnd.jupyter.widget-view+json": {
              "model_id": "bffd84dd65ff4262938a7cf1d62613d3",
              "version_major": 2,
              "version_minor": 0
            },
            "text/plain": [
              "Downloading (…)solve/main/vocab.txt:   0%|          | 0.00/232k [00:00<?, ?B/s]"
            ]
          },
          "metadata": {},
          "output_type": "display_data"
        },
        {
          "data": {
            "application/vnd.jupyter.widget-view+json": {
              "model_id": "b4b71d1c2c7e4f60ad64e1efa05cae52",
              "version_major": 2,
              "version_minor": 0
            },
            "text/plain": [
              "Downloading (…)okenizer_config.json:   0%|          | 0.00/28.0 [00:00<?, ?B/s]"
            ]
          },
          "metadata": {},
          "output_type": "display_data"
        },
        {
          "data": {
            "application/vnd.jupyter.widget-view+json": {
              "model_id": "477e21d4d4754cb59081efa2fe953efc",
              "version_major": 2,
              "version_minor": 0
            },
            "text/plain": [
              "Downloading (…)lve/main/config.json:   0%|          | 0.00/570 [00:00<?, ?B/s]"
            ]
          },
          "metadata": {},
          "output_type": "display_data"
        }
      ],
      "source": [
        "PRE_TRAINED_MODEL_NAME = 'bert-base-uncased'\n",
        "tokenizer = BertTokenizer.from_pretrained(PRE_TRAINED_MODEL_NAME)"
      ]
    },
    {
      "cell_type": "markdown",
      "metadata": {
        "id": "OhHTpsKXMF4L"
      },
      "source": [
        "### Model"
      ]
    },
    {
      "cell_type": "code",
      "execution_count": null,
      "metadata": {
        "colab": {
          "base_uri": "https://localhost:8080/",
          "height": 121
        },
        "id": "48AXvbPbOALE",
        "outputId": "09d324f3-792d-4d05-e426-e6db06b1d091"
      },
      "outputs": [
        {
          "data": {
            "application/vnd.jupyter.widget-view+json": {
              "model_id": "b7fe3496b7f94851a6fef416560e9a45",
              "version_major": 2,
              "version_minor": 0
            },
            "text/plain": [
              "Downloading model.safetensors:   0%|          | 0.00/440M [00:00<?, ?B/s]"
            ]
          },
          "metadata": {},
          "output_type": "display_data"
        },
        {
          "name": "stderr",
          "output_type": "stream",
          "text": [
            "Some weights of the model checkpoint at bert-base-uncased were not used when initializing BertModel: ['cls.predictions.bias', 'cls.predictions.transform.LayerNorm.weight', 'cls.seq_relationship.bias', 'cls.seq_relationship.weight', 'cls.predictions.transform.dense.weight', 'cls.predictions.transform.dense.bias', 'cls.predictions.transform.LayerNorm.bias']\n",
            "- This IS expected if you are initializing BertModel from the checkpoint of a model trained on another task or with another architecture (e.g. initializing a BertForSequenceClassification model from a BertForPreTraining model).\n",
            "- This IS NOT expected if you are initializing BertModel from the checkpoint of a model that you expect to be exactly identical (initializing a BertForSequenceClassification model from a BertForSequenceClassification model).\n"
          ]
        }
      ],
      "source": [
        "#@title Model1\n",
        "bert_model = BertModel.from_pretrained('bert-base-uncased')"
      ]
    },
    {
      "cell_type": "code",
      "execution_count": null,
      "metadata": {
        "id": "eVxBLOXbPCs3"
      },
      "outputs": [],
      "source": [
        "class SentimentClassifier(nn.Module):\n",
        "\n",
        "  def __init__(self, n_classes):\n",
        "    super(SentimentClassifier, self).__init__()\n",
        "    self.bert = BertModel.from_pretrained(PRE_TRAINED_MODEL_NAME)\n",
        "    self.drop = nn.Dropout(p=0.3)\n",
        "    self.out = nn.Linear(self.bert.config.hidden_size, n_classes)\n",
        "\n",
        "  def forward(self, input_ids, attention_mask):\n",
        "    model = self.bert(\n",
        "      input_ids=input_ids,\n",
        "      attention_mask=attention_mask\n",
        "    )\n",
        "    pooled_output = model.pooler_output\n",
        "    output = self.drop(pooled_output)\n",
        "    return self.out(output)"
      ]
    },
    {
      "cell_type": "code",
      "execution_count": null,
      "metadata": {
        "colab": {
          "base_uri": "https://localhost:8080/"
        },
        "id": "6r3k8s_BPIU9",
        "outputId": "f17feece-03f4-49bb-c2e7-2857569644f9"
      },
      "outputs": [
        {
          "name": "stderr",
          "output_type": "stream",
          "text": [
            "Some weights of the model checkpoint at bert-base-uncased were not used when initializing BertModel: ['cls.predictions.bias', 'cls.predictions.transform.LayerNorm.weight', 'cls.seq_relationship.bias', 'cls.seq_relationship.weight', 'cls.predictions.transform.dense.weight', 'cls.predictions.transform.dense.bias', 'cls.predictions.transform.LayerNorm.bias']\n",
            "- This IS expected if you are initializing BertModel from the checkpoint of a model trained on another task or with another architecture (e.g. initializing a BertForSequenceClassification model from a BertForPreTraining model).\n",
            "- This IS NOT expected if you are initializing BertModel from the checkpoint of a model that you expect to be exactly identical (initializing a BertForSequenceClassification model from a BertForSequenceClassification model).\n"
          ]
        }
      ],
      "source": [
        "class_names = ['negative', 'neutral', 'positive']\n",
        "model = SentimentClassifier(len(class_names))"
      ]
    },
    {
      "cell_type": "code",
      "execution_count": null,
      "metadata": {
        "colab": {
          "base_uri": "https://localhost:8080/"
        },
        "id": "CKiIe2cgM5DJ",
        "outputId": "36ab0726-a6bc-4f23-954a-ba85d90f8c66"
      },
      "outputs": [
        {
          "data": {
            "text/plain": [
              "<All keys matched successfully>"
            ]
          },
          "execution_count": 29,
          "metadata": {},
          "output_type": "execute_result"
        }
      ],
      "source": [
        "model.load_state_dict(torch.load('model_state_cpu.bin'))"
      ]
    },
    {
      "cell_type": "code",
      "execution_count": null,
      "metadata": {
        "id": "N82JpyEFMzAg"
      },
      "outputs": [],
      "source": [
        "def get_predictions(data):\n",
        "  preds=[]\n",
        "  for item in data.text:\n",
        "    encoding_text = tokenizer.encode_plus(\n",
        "      item,\n",
        "      add_special_tokens=True,\n",
        "      max_length=160,\n",
        "      return_token_type_ids=False,\n",
        "      pad_to_max_length=True,\n",
        "      return_attention_mask=True,\n",
        "      return_tensors='pt',\n",
        "    )\n",
        "    outputs = model(encoding_text['input_ids'], encoding_text['attention_mask'])\n",
        "    _, pred = torch.max(outputs, dim=1)\n",
        "    pred = pred.item()\n",
        "    preds.append(pred)\n",
        "  return preds"
      ]
    },
    {
      "cell_type": "code",
      "execution_count": null,
      "metadata": {
        "colab": {
          "background_save": true,
          "base_uri": "https://localhost:8080/"
        },
        "id": "rA4zdi7FMi2X",
        "outputId": "8b74fe6a-9dab-4213-c2dd-0f3b7b66f3f3"
      },
      "outputs": [
        {
          "name": "stderr",
          "output_type": "stream",
          "text": [
            "Truncation was not explicitly activated but `max_length` is provided a specific value, please use `truncation=True` to explicitly truncate examples to max length. Defaulting to 'longest_first' truncation strategy. If you encode pairs of sequences (GLUE-style) with the tokenizer you can select this strategy more precisely by providing a specific strategy to `truncation`.\n",
            "/usr/local/lib/python3.10/dist-packages/transformers/tokenization_utils_base.py:2377: FutureWarning: The `pad_to_max_length` argument is deprecated and will be removed in a future version, use `padding=True` or `padding='longest'` to pad to the longest sequence in the batch, or use `padding='max_length'` to pad to a max length. In this case, you can give a specific length with `max_length` (e.g. `max_length=45`) or leave max_length to None to pad to the maximal input size of the model (e.g. 512 for Bert).\n",
            "  warnings.warn(\n"
          ]
        },
        {
          "name": "stdout",
          "output_type": "stream",
          "text": [
            "[1, 2, 0, 1, 2, 2, 0, 1, 1, 1, 2, 1, 2, 0, 1, 1, 1, 2, 1, 0, 1, 1, 0, 0, 0, 1, 0, 1, 1, 0, 2, 1, 0, 1, 2, 1, 0, 1, 2, 1, 1, 0, 1, 1, 1, 2, 2, 0, 2, 2, 2, 1, 0, 0, 2, 0, 1, 2, 0, 0, 1, 2, 2, 1, 2, 1, 1, 0, 0, 2, 1, 1, 0, 1, 1, 1, 0, 1, 2, 1, 1, 0, 2, 0, 2, 2, 2, 2, 0, 0, 2, 1, 0, 0, 1, 2, 1, 2, 2, 0, 1, 0, 2, 2, 2, 1, 0, 0, 1, 1, 0, 1, 2, 1, 2, 1, 2, 2, 2, 2, 0, 1, 1, 0, 1, 1, 1, 1, 0, 1, 0, 2, 2, 1, 2, 1, 1, 0, 2, 1, 2, 0, 0, 1, 0, 2, 2, 0, 2, 1, 2, 0, 2, 1, 1, 0, 1, 2, 1, 1, 2, 1, 0, 1, 2, 0, 0, 1, 1, 2, 0, 2, 2, 0, 1, 0, 1, 1, 1, 2, 2, 1, 0, 2, 2, 2, 0, 1, 0, 1, 1, 2, 1, 1, 2, 0, 1, 1, 1, 2, 2, 1, 0, 2, 0, 2, 1, 0, 0, 2, 1, 2, 2, 1, 1, 1, 0, 1, 1, 1, 1, 1, 1, 2, 2, 0, 2, 0, 1, 1, 0, 1, 2, 0, 2, 2, 2, 2, 2, 2, 2, 1, 0, 0, 2, 0, 2, 0, 0, 2, 2, 0, 2, 1, 0, 2, 1, 0, 2, 2, 2, 0, 2, 0, 0, 2, 1, 0, 1, 0, 2, 1, 1, 0, 1, 1, 2, 0, 1, 1, 1, 2, 2, 0, 0, 2, 2, 1, 1, 1, 0, 2, 1, 1, 1, 2, 1, 1, 1, 2, 0, 0, 1, 1, 0, 2, 2, 1, 1, 1, 0, 2, 1, 1, 2, 1, 0, 2, 2, 2, 2, 1, 0, 1, 1, 1, 0, 2, 0, 1, 2, 0, 2, 1, 0, 0, 0, 1, 0, 0, 2, 1, 0, 1, 2, 0, 2, 0, 1, 2, 2, 1, 0, 1, 1, 2, 0, 0, 0, 1, 1, 2, 1, 2, 2, 1, 0, 1, 1, 1, 2, 2, 1, 2, 1, 0, 1, 0, 1, 0, 2, 2, 0, 0, 2, 1, 1, 1, 0, 1, 1, 2, 2, 1, 1, 2, 0, 2, 1, 1, 1, 1, 0, 1, 1, 0, 1, 0, 1, 2, 1, 1, 2, 0, 2, 1, 0, 2, 1, 1, 0, 2, 0, 2, 0, 1, 1, 2, 2, 0, 2, 1, 0, 1, 1, 0, 2, 0, 1, 1, 0, 2, 0, 0, 0, 0, 0, 1, 2, 2, 2, 1, 0, 2, 1, 0, 2, 2, 1, 1, 1, 0, 1, 0, 1, 0, 2, 0, 2, 1, 0, 1, 0, 1, 1, 1, 1, 2, 1, 1, 1, 0, 1, 1, 1, 2, 0, 1, 2, 0, 1, 1, 2, 0, 0, 2, 0, 1, 2, 0, 2, 2, 0, 0, 1, 0, 2, 0, 2, 0, 2, 2, 0, 0, 0, 2, 2, 1, 1, 1, 0, 0, 2, 2, 1, 2, 2, 0, 1, 1, 2, 1, 1, 2, 1, 1, 1, 1, 2, 1, 1, 2, 1, 1, 1, 2, 2, 2, 2, 2, 1, 2, 0, 0, 0, 2, 2, 2, 1, 2, 2, 1, 2, 0, 0, 2, 0, 2, 1, 0, 0, 2, 1, 2, 0, 2, 1, 1, 1, 1, 1, 2, 1, 1, 0, 2, 1, 2, 1, 0, 1, 1, 2, 1, 2, 0, 2, 1, 1, 2, 2, 0, 1, 2, 1, 2, 2, 0, 2, 2, 2, 1, 0, 1, 0, 2, 1, 2, 1, 2, 1, 2, 2, 1, 0, 0, 0, 2, 2, 2, 2, 2, 2, 0, 2, 1, 0, 0, 0, 0, 2, 1, 0, 0, 1, 1, 0, 0, 1, 1, 1, 0, 1, 0, 0, 0, 1, 0, 2, 0, 1, 1, 2, 1, 0, 1, 2, 0, 0, 2, 0, 0, 1, 0, 0, 1, 2, 1, 2, 0, 2, 1, 0, 0, 1, 1, 0, 2, 1, 1, 2, 2, 2, 2, 0, 1, 0, 2, 1, 1, 0, 0, 0, 1, 2, 1, 0, 1, 2, 2, 1, 0, 0, 1, 2, 2, 0, 1, 0, 1, 2, 1, 2, 1, 1, 2, 0, 2, 1, 0, 0, 2, 2, 1, 1, 0, 2, 0, 2, 2, 2, 2, 1, 2, 2, 2, 0, 0, 2, 0, 0, 1, 1, 0, 2, 1, 2, 2, 1, 1, 0, 1, 2, 0, 2, 2, 0, 0, 2, 1, 2, 1, 2, 0, 1, 1, 1, 2, 2, 2, 0, 0, 2, 1, 2, 2, 1, 0, 1, 1, 2, 0, 1, 1, 1, 0, 0, 1, 0, 1, 2, 2, 2, 2, 0, 2, 1, 1, 0, 0, 2, 2, 1, 0, 2, 1, 2, 2, 0, 0, 2, 2, 2, 1, 2, 0, 2, 1, 2, 1, 1, 2, 1, 2, 1, 1, 1, 2, 1, 2, 1, 2, 1, 1, 1, 2, 0, 2, 1, 1, 1, 0, 1, 2, 2, 1, 1, 1, 0, 0, 1, 0, 1, 0, 1, 0, 1, 0, 1, 0, 2, 1, 2, 1, 0, 1, 2, 0, 0, 1, 2, 1, 1, 0, 1, 2, 0, 0, 2, 2, 2, 2, 1, 1, 2, 2, 2, 1, 1, 1, 0, 2, 1, 0, 1, 0, 0, 2, 0, 1, 0, 2, 1, 2, 0, 2, 2, 2, 2, 0, 2, 2, 2, 2, 0, 2, 1, 1, 1, 1, 1, 1, 2, 0, 1, 2, 1, 1, 1, 1, 1, 2, 1, 1, 2, 2, 2, 0, 2, 0, 1, 0, 0, 0, 0, 1, 1, 2, 2, 0, 1, 2, 0, 2, 1, 1, 1, 1, 2, 0, 2, 0, 1, 2, 2, 1, 1, 1, 1, 2, 0, 1, 1, 1, 0, 2, 2, 1, 2, 1, 1, 0, 2, 1, 0, 2, 2, 0, 0, 1, 0, 0, 0, 2, 0, 2, 0, 1, 2, 2, 0, 1, 1, 2, 2, 0, 2, 2, 2, 0, 0, 1, 1, 2, 1, 0, 2, 1, 0, 1, 1, 0, 0, 2, 0, 2, 1, 1, 2, 0, 2, 1, 1, 2, 2, 2, 0, 0, 1, 2, 0, 1, 1, 2, 1, 1, 1, 1, 2, 2, 0, 0, 0, 0, 0, 1, 2, 1, 0, 2, 1, 1, 0, 0, 1, 2, 2, 0, 0, 2, 2, 2, 0, 0, 1, 2, 0, 1, 0, 1, 1, 1, 2, 1, 1, 2, 0, 0, 0, 2, 0, 2, 0, 2, 2, 2, 2, 0, 2, 0, 0, 2, 2, 1, 2, 0, 1, 1, 1, 2, 0, 2, 2, 0, 0, 1, 1, 0, 1, 2, 2, 1, 2, 2, 0, 1, 2, 0, 2, 0, 0, 2, 1, 2, 2, 1, 0, 1, 1, 1, 2, 0, 0, 0, 0, 0, 1, 2, 2, 1, 2, 2, 0, 2, 1, 2, 0, 2, 1, 0, 2, 1, 2, 1, 1, 0, 1, 0, 1, 2, 0, 0, 0, 1, 0, 0, 1, 0, 1, 2, 2, 0, 1, 0, 1, 0, 1, 0, 1, 1, 1, 2, 2, 0, 1, 0, 2, 2, 2, 1, 1, 2, 2, 2, 2, 1, 2, 2, 2, 2, 0, 0, 1, 0, 1, 0, 2, 2, 2, 1, 0, 0, 0, 2, 0, 2, 2, 0, 1, 0, 0, 0, 2, 1, 0, 1, 0, 2, 1, 0, 2, 0, 0, 0, 1, 1, 2, 2, 1, 0, 2, 2, 1, 0, 2, 0, 1, 0, 1, 0, 1, 0, 2, 1, 1, 1, 1, 2, 0, 0, 1, 0, 2, 2, 0, 1, 1, 1, 2, 1, 2, 2, 0, 1, 2, 1, 2, 2, 0, 2, 0, 2, 2, 0, 0, 1, 2, 1, 1, 1, 2, 0, 1, 1, 0, 0, 1, 0, 1, 1, 0, 0, 2, 1, 1, 0, 0, 2, 2, 2, 1, 1, 2, 1, 1, 1, 0, 0, 0, 1, 1, 0, 2, 1, 2, 1, 0, 2, 1, 2, 1, 1, 2, 1, 1, 2, 0, 0, 2, 1, 0, 1, 1, 2, 1, 1, 1, 0, 2, 1, 2, 2, 0, 2, 0, 1, 0, 1, 0, 2, 2, 1, 0, 0, 0, 1, 0, 1, 1, 1, 1, 2, 2, 1, 2, 2, 0, 1, 1, 1, 2, 1, 0, 2, 1, 1, 2, 1, 2, 2, 1, 1, 2, 1, 0, 0, 2, 2, 0, 2, 2, 0, 2, 1, 2, 2, 1, 0, 2, 1, 2, 2, 1, 2, 0, 0, 2, 1, 1, 2, 1, 1, 2, 0, 1, 1, 2, 0, 0, 1, 0, 2, 2, 1, 1, 2, 1, 0, 1, 1, 2, 0, 2, 1, 2, 0, 0, 2, 1, 1, 1, 1, 2, 0, 0, 2, 1, 2, 1, 1, 0, 1, 2, 0, 0, 2, 1, 1, 0, 2, 2, 2, 1, 0, 2, 2, 1, 1, 0, 2, 1, 1, 2, 1, 1, 2, 1, 2, 2, 1, 1, 0, 2, 0, 1, 2, 1, 2, 0, 0, 2, 1, 2, 0, 2, 1, 2, 1, 2, 2, 1, 0, 0, 1, 0, 2, 0, 1, 1, 2, 0, 0, 1, 1, 0, 2, 1, 1, 2, 2, 0, 2, 1, 1, 2, 0, 2, 0, 2, 1, 1, 2, 2, 0, 2, 1, 2, 1, 0, 2, 1, 1, 2, 1, 1, 1, 0, 2, 0, 1, 2, 1, 2, 1, 1, 0, 0, 2, 1, 1, 1, 1, 0, 2, 1, 1, 1, 0, 1, 2, 0, 0, 1, 2, 2, 1, 0, 0, 1, 1, 0, 0, 0, 0, 1, 0, 2, 1, 1, 1, 2, 2, 1, 0, 0, 0, 2, 0, 2, 2, 2, 0, 2, 2, 1, 1, 2, 2, 0, 2, 2, 1, 2, 0, 1, 2, 0, 2, 2, 2, 1, 0, 1, 0, 2, 1, 1, 0, 1, 1, 0, 2, 2, 1, 1, 2, 1, 0, 0, 2, 1, 0, 1, 2, 0, 2, 2, 0, 0, 0, 0, 0, 2, 2, 2, 2, 1, 0, 1, 2, 1, 2, 2, 0, 2, 1, 1, 2, 0, 2, 0, 2, 2, 0, 0, 0, 2, 1, 2, 0, 1, 1, 0, 0, 0, 0, 2, 1, 0, 1, 0, 1, 0, 2, 2, 0, 1, 0, 0, 1, 0, 2, 1, 1, 1, 2, 2, 2, 0, 0, 1, 2, 2, 0, 1, 2, 0, 1, 2, 1, 1, 2, 1, 0, 0, 0, 1, 1, 1, 1, 0, 0, 1, 1, 1, 1, 1, 0, 1, 1, 0, 0, 2, 0, 0, 0, 1, 0, 2, 2, 1, 0, 0, 0, 2, 1, 0, 2, 1, 2, 1, 1, 1, 0, 2, 2, 0, 2, 0, 2, 1, 2, 2, 1, 1, 0, 2, 2, 0, 2, 0, 0, 1, 1, 0, 1, 2, 2, 1, 0, 2, 2, 2, 2, 2, 2, 0, 1, 1, 2, 2, 1, 2, 2, 2, 0, 2, 0, 2, 2, 1, 1, 1, 0, 0, 1, 1, 2, 0, 2, 2, 2, 1, 0, 0, 1, 0, 0, 2, 2, 0, 1, 1, 2, 0, 2, 0, 0, 0, 2, 1, 1, 0, 1, 0, 1, 1, 1, 2, 1, 2, 2, 1, 2, 1, 0, 0, 2, 2, 2, 1, 1, 1, 1, 2, 1, 1, 0, 0, 1, 1, 0, 1, 2, 2, 1, 0, 0, 2, 0, 0, 1, 1, 0, 2, 1, 0, 2, 2, 1, 0, 1, 0, 0, 2, 2, 1, 0, 1, 0, 1, 1, 0, 0, 2, 0, 0, 0, 1, 0, 1, 2, 2, 0, 2, 0, 1, 0, 2, 2, 2, 1, 1, 1, 2, 2, 1, 2, 1, 2, 2, 1, 0, 2, 2, 0, 1, 0, 2, 2, 2, 1, 1, 0, 0, 2, 1, 2, 0, 2, 1, 1, 1, 2, 1, 1, 1, 2, 2, 1, 2, 1, 0, 0, 0, 2, 2, 1, 2, 2, 1, 1, 0, 0, 2, 0, 1, 1, 1, 1, 2, 1, 2, 0, 2, 1, 1, 2, 1, 1, 1, 2, 0, 0, 2, 1, 2, 2, 0, 1, 0, 2, 2, 0, 2, 2, 0, 2, 2, 2, 2, 1, 0, 2, 2, 1, 0, 0, 2, 2, 1, 2, 2, 1, 1, 0, 2, 0, 0, 1, 1, 2, 2, 2, 2, 0, 1, 0, 0, 1, 0, 1, 2, 1, 2, 1, 1, 2, 0, 1, 1, 2, 0, 0, 0, 1, 0, 2, 2, 2, 0, 2, 1, 2, 0, 1, 1, 2, 2, 2, 1, 0, 1, 1, 0, 1, 2, 2, 2, 2, 1, 1, 1, 1, 0, 1, 2, 0, 2, 1, 2, 1, 2, 1, 1, 2, 1, 0, 2, 2, 2, 1, 1, 0, 0, 2, 0, 2, 1, 2, 2, 0, 1, 0, 1, 1, 1, 1, 0, 1, 0, 0, 1, 1, 1, 2, 2, 1, 1, 0, 0, 2, 2, 0, 2, 2, 1, 1, 1, 2, 2, 2, 0, 0, 0, 2, 2, 1, 0, 0, 2, 1, 1, 1, 2, 1, 0, 0, 0, 0, 2, 2, 0, 0, 1, 1, 2, 0, 2, 0, 0, 1, 2, 0, 1, 1, 1, 0, 2, 2, 1, 0, 0, 0, 0, 2, 1, 1, 1, 1, 1, 0, 0, 0, 2, 2, 2, 2, 2, 0, 2, 1, 1, 1, 0, 2, 1, 1, 0, 2, 0, 2, 0, 2, 2, 0, 0, 2, 0, 0, 0, 2, 0, 2, 0, 1, 2, 0, 2, 0, 2, 0, 1, 0, 0, 0, 2, 0, 2, 2, 0, 0, 2, 0, 0, 2, 2, 2, 1, 2, 2, 2, 2, 1, 1, 2, 2, 1, 2, 0, 1, 1, 2, 0, 1, 2, 2, 1, 2, 1, 2, 0, 0, 2, 0, 1, 2, 0, 0, 1, 2, 2, 2, 1, 1, 2, 1, 0, 1, 1, 1, 0, 0, 2, 2, 1, 1, 2, 2, 1, 1, 0, 0, 2, 0, 0, 0, 1, 2, 2, 1, 0, 2, 2, 0, 0, 2, 1, 0, 0, 1, 0, 0, 2, 1, 1, 1, 0, 0, 1, 2, 2, 1, 2, 0, 1, 2, 2, 0, 2, 1, 2, 0, 0, 1, 0, 0, 0, 0, 0, 1, 0, 1, 2, 1, 0, 1, 0, 1, 0, 2, 1, 2, 2, 1, 1, 0, 2, 0, 1, 0, 2, 1, 1, 0, 2, 0, 1, 1, 0, 2, 0, 1, 2, 1, 2, 1, 2, 2, 2, 2, 0, 2, 2, 0, 2, 0, 2, 1, 2, 0, 1, 0, 2, 2, 2, 1, 1, 0, 2, 1, 2, 0, 2, 0, 2, 0, 1, 1, 0, 1, 2, 2, 0, 2, 2, 2, 1, 0, 2, 1, 0, 1, 0, 1, 0, 1, 1, 1, 1, 0, 1, 1, 0, 1, 2, 2, 2, 2, 0, 2, 2, 1, 2, 2, 1, 2, 0, 0, 0, 1, 2, 1, 1, 1, 2, 2, 1, 0, 2, 0, 1, 2, 1, 0, 2, 0, 0, 2, 1, 2, 2, 1, 0, 1, 1, 0, 1, 1, 1, 2, 0, 1, 0, 1, 1, 2, 1, 2, 0, 2, 2, 2, 0, 2, 2, 0, 0, 2, 2, 1, 1, 0, 1, 1, 1, 0, 2, 0, 1, 2, 0, 0, 1, 0, 0, 0, 1, 0, 0, 1, 0, 1, 0, 0, 1, 1, 1, 1, 1, 1, 1, 1, 2, 2, 2, 2, 0, 2, 1, 0, 2, 0, 1, 0, 2, 1, 2, 1, 1, 2, 0, 1, 2, 0, 2, 2, 2, 0, 2, 1, 0, 1, 1, 0, 1, 2, 2, 0, 0, 0, 1, 1, 1, 2, 0, 0, 2, 2, 2, 2, 0, 0, 0, 1, 2, 1, 0, 1, 0, 0, 1, 1, 1, 0, 0, 0, 1, 0, 0, 2, 1, 0, 1, 0, 0, 2, 1, 0, 2, 2, 2, 2, 0, 2, 0, 0, 1, 0, 2, 2, 2, 1, 2, 2, 1, 1, 2, 0, 2, 0, 0, 2, 0, 0, 1, 0, 1, 1, 0, 0, 2, 2, 1, 2, 2, 1, 0, 2, 2, 0, 0, 2, 0, 1, 1, 0, 0, 2, 2, 0, 2, 1, 2, 2, 1, 0, 0, 1, 0, 1, 0, 1, 1, 0, 1, 0, 0, 1, 0, 0, 1, 0, 1, 1, 0, 2, 2, 2, 0, 0, 1, 1, 0, 2, 1, 1, 0, 2, 0, 1, 2, 1, 0, 0, 1, 0, 1, 2, 1, 1, 2, 1, 1, 1, 0, 0, 0, 2, 2, 0, 1, 0, 1, 1, 1, 0, 0, 2, 2, 0, 2, 0, 1, 1, 1, 1, 0, 0, 1, 0, 2, 0, 1, 2, 2, 2, 0, 0, 1, 2, 0, 1, 2, 1, 2, 2, 0, 0, 0, 2, 2, 0, 1, 1, 2, 1, 0, 1, 2, 2, 1, 0, 1, 2, 0, 2, 0, 2, 0, 1, 0, 0, 2, 2, 2, 2, 1, 1, 1, 1, 2, 1, 2, 0, 1, 1, 0, 2, 2, 1, 0, 1, 0, 1, 0, 0, 1, 2, 0, 1, 1, 1, 1, 1, 2, 0, 0, 1, 0, 1, 1, 1, 2, 2, 0, 1, 0, 0, 2, 0, 0, 2, 1, 0, 1, 1, 2, 1, 2, 1, 1, 2, 1, 1, 0, 2, 2, 2, 1, 1, 1, 0, 2, 1, 0, 0, 1, 1, 1, 0, 2, 2, 0, 1, 0, 0, 2, 2, 0, 1, 2, 1, 0, 2, 1, 1, 1, 1, 1, 1, 0, 1, 1, 2, 1, 2, 2, 1, 0, 1, 0, 2, 1, 1, 1, 2, 0, 1, 2, 0, 0, 1, 2, 0, 2, 0, 1, 0, 0, 1, 0, 1, 1, 1, 1, 2, 2, 1, 2, 2, 0, 2, 1, 0, 1, 1, 1, 0, 1, 1, 0, 1, 2, 2, 2, 2, 2, 0, 2, 1, 1, 1, 0, 1, 2, 2, 2, 2, 0, 1, 0, 1, 2, 2, 2, 1, 2, 0, 1, 0, 1, 2, 2, 2, 1, 1, 1, 2, 0, 0, 2, 1, 2, 1, 1, 0, 1, 1, 1, 1, 2, 1, 2, 2, 2, 0, 2, 2, 2, 2, 1, 2, 1, 1, 1, 0, 0, 0, 2, 1, 2, 2, 1, 2, 0, 2, 2, 1, 0, 1, 0, 1, 0, 1, 0, 0, 0, 1, 0, 0, 2, 1, 2, 2, 1, 2, 1, 1, 0, 0, 2, 0, 0, 0, 2, 2, 2, 1, 2, 2, 1, 0, 2, 0, 2, 0, 0, 0, 2, 1, 2, 1, 1, 2, 1, 2, 1, 2, 0, 2, 1, 1, 2, 2, 0, 1, 1, 2, 0, 1, 2, 2, 0, 1, 0, 0, 0, 0, 1, 2, 0, 2, 2, 1, 2, 1, 0, 1, 1, 2, 0, 0, 2, 0, 1, 0, 0, 0, 0, 0, 2, 2, 0, 2, 0, 0, 2, 2, 0, 1, 1, 2, 2, 2, 2, 1, 1, 1, 2, 0, 1, 2, 1, 0, 1, 2, 2, 0, 2, 1, 2, 1, 0, 1, 0, 2, 0, 0, 0, 2, 1, 0, 1, 1, 1, 2, 0, 1, 1, 2, 0, 1, 0, 2, 0, 1, 2, 1, 0, 1, 0, 0, 1, 0, 0, 2, 0, 1, 2, 0, 1, 2, 2, 2, 1, 0, 1, 1, 2, 1, 0, 1, 0, 0, 1, 1, 2, 1, 1, 0, 0, 1, 2, 1, 1, 1, 0, 2, 0, 0, 0, 2, 1, 2, 2, 0, 2, 1, 2, 2, 1, 1, 1, 0, 2, 0, 0, 0, 2, 1, 2, 2, 0, 1, 0, 1, 2, 0, 0, 2, 0, 1, 2, 2, 2, 0, 0, 1, 1, 2, 1, 2, 1, 0, 1, 0, 1, 2, 1, 2, 1, 2, 2, 2, 1, 0, 1, 1, 2, 1, 0, 1, 0, 2, 1, 2, 0, 2, 2, 1, 0, 0, 2, 0, 2, 2, 0, 0, 1, 0, 0, 1, 2, 2, 2, 2, 1, 1, 2, 1, 2, 1, 1, 0, 0, 2, 0, 1, 1, 2, 1, 1, 0, 1, 2, 0, 2, 0, 1, 0, 1, 1, 0, 0, 0, 0, 1, 2, 0, 0, 2, 0, 0, 2, 2, 2, 1, 0, 2, 0, 1, 2, 0, 2, 2, 1, 0, 2, 2, 2, 0, 0, 0, 1, 0, 2, 2, 0, 1, 2, 1, 1, 0, 1, 1, 1, 2, 0, 2, 0, 0, 1, 2, 2, 2, 1, 1, 1, 1, 0, 1, 2, 1, 2, 1, 1, 0, 0, 1, 0, 1, 0, 2, 1, 2, 2, 0, 1, 1, 2, 0, 1, 1, 1, 0, 0, 2, 2, 0, 2, 0, 1, 2, 2, 0, 1, 0, 2, 1, 2, 1, 1, 0, 1, 2, 0, 0, 1, 0, 0, 0, 1, 2, 0, 1, 2, 2, 1, 0, 2, 2, 2, 1, 1, 0, 2, 0, 2, 2, 0, 1, 1, 0, 0, 2, 2, 0, 0, 0, 2, 1, 2, 1, 1, 0, 1, 2, 1, 1, 1, 2, 1, 1, 2, 0, 1, 2, 2, 0, 0, 0, 2, 0, 2, 2, 2, 1, 2, 0, 0, 1, 0, 0, 0, 2, 1, 1, 1, 1, 1, 0, 1, 2, 1, 2, 2, 1, 0, 0, 1, 2, 1, 2, 2, 0, 0, 1, 1, 2, 1, 2, 1, 2, 2, 0, 0, 0, 2, 1, 1, 2, 1, 2, 2, 2, 2, 1, 0, 2, 1, 2, 1, 1, 1, 2, 0, 2, 1, 0, 1, 0, 0, 2, 2, 1, 0, 2, 2, 0, 2, 1, 0, 1, 1, 0, 0, 2, 0, 1, 0, 1, 1, 2, 2, 2, 0, 0, 0, 2, 1, 1, 1, 2, 2, 1, 2, 0, 2, 2, 2, 2, 2, 1, 0, 1, 1, 2, 0, 2, 2, 0, 2, 2, 1, 1, 1, 2, 0, 1, 0, 1, 1, 1, 1, 1, 1, 1, 0, 2, 1, 1, 2, 1, 2, 1, 0, 0, 1, 0, 1, 1, 1, 0, 0, 0, 2, 2, 2, 0, 1, 2, 1, 1, 2, 2, 2, 0, 2, 0, 1, 2, 2, 0, 2, 1, 1, 1, 2, 1, 1, 1, 2, 0, 2, 1, 1, 2, 2, 2, 2, 0, 2, 2, 2, 2, 0, 1, 2, 1, 2, 0, 2, 0, 0, 1, 1, 0, 2, 0, 0, 0, 0, 0, 1, 2, 2, 2, 0, 0, 2, 1, 2, 1, 1, 1, 1, 1, 2, 0, 0, 1, 2, 1, 1, 2, 1, 0, 1, 1, 2, 1, 2, 1, 2, 0, 0, 0, 2, 1, 0, 0, 0, 2, 0, 1, 0, 2, 1, 0, 2, 2, 2, 1, 0, 1, 1, 0, 1, 2, 1, 2, 1, 1, 2, 0, 1, 2, 2, 1, 0, 2, 0, 1, 1, 0, 1, 2, 1, 1, 1, 1, 0, 1, 2, 1, 1, 2, 1, 2, 1, 1, 2, 1, 1, 1, 1, 2, 0, 0, 2, 2, 2, 2, 2, 1, 1, 2, 1, 2, 2, 1, 0, 1, 2, 2, 0, 2, 2, 1, 1, 2, 2, 0, 1, 2, 1, 1, 2, 2, 2, 0, 0, 2, 2, 2, 2, 0, 1, 1, 2, 2, 0, 2, 1, 2, 1, 0, 2, 0, 1, 1, 1, 2, 1, 0, 2, 2, 1, 2, 0, 0, 0, 1, 1, 1, 1, 0, 2, 2, 0, 1, 2, 1, 2, 2, 1, 1, 2, 1, 1, 1, 2, 1, 0, 2, 1, 0, 1, 2, 1, 0, 0, 1, 0, 1, 1, 2, 0, 1, 2, 2, 1, 0, 2, 2, 2, 2, 0, 1, 0, 1, 0, 0, 0, 1, 2, 1, 1, 1, 0, 0, 1, 1, 0, 2, 2, 1, 2, 1, 0, 1, 2, 2, 2, 1, 2, 2, 2, 2, 2, 2, 0, 1, 2, 1, 1, 0, 0, 2, 0, 1, 2, 0, 2, 1, 1, 1, 1, 2, 0, 2, 0, 2, 0, 2, 2, 1, 2, 2, 2, 0, 0, 2, 2, 0, 0, 1, 1, 0, 0, 0, 1, 0, 0, 0, 0, 0, 2, 1, 2, 2, 1, 1, 1, 1, 0, 0, 0, 2, 1, 2, 1, 1, 2, 2, 1, 0, 2, 1, 1, 2, 2, 2, 2, 1, 2, 0, 1, 2, 1, 0, 0, 1, 0, 2, 1, 2, 2, 2, 2, 0, 0, 0, 2, 2, 2, 2, 2, 1, 2, 1, 2, 1, 0, 1, 1, 2, 2, 1, 2, 1, 2, 0, 1, 0, 1, 0, 0, 1, 1, 0, 1, 1, 1, 0, 2, 1, 2, 1, 1, 2, 1, 1, 2, 0, 1, 0, 0, 0, 0, 1, 0, 1, 2, 1, 0, 1, 1, 0, 2, 0, 2, 0, 1, 1, 0, 1, 2, 1, 2, 1, 1, 0, 1, 2, 0, 0, 0, 1, 1, 2, 1, 0, 0, 0, 1, 0, 2, 0, 0, 1, 0, 0, 2, 0, 0, 0, 2, 2, 1, 0, 2, 1, 2, 0, 2, 0, 1, 0, 1, 0, 1, 2, 2, 1, 0, 1, 1, 0, 1, 1, 0, 2, 1, 2, 2, 2, 1, 2, 0, 2, 2, 1, 2, 1, 1, 0, 1, 2, 1, 0, 1, 0, 0, 2, 2, 2, 2, 1, 2, 1, 2, 0, 1, 1, 2, 0, 2, 0, 1, 0, 0, 1, 2, 0, 0, 2, 1, 2, 0, 2, 1, 1, 2, 0, 1, 2, 1, 1, 2, 1, 2, 2, 2, 1, 0, 1, 0, 1, 1, 1, 1, 1, 0, 0, 0, 1, 1, 1, 2, 2, 0, 1, 0, 0, 1, 0, 1, 0, 2, 0, 2, 2, 0, 1, 2, 0, 0, 1, 2, 0, 1, 1, 2, 0, 2, 0, 2, 2, 0, 0, 2, 2, 1, 0, 2, 1, 2, 2, 2, 1, 2, 2, 1, 1, 2, 0, 0, 1, 2, 1, 0, 1, 1, 0, 0, 2, 1, 1, 0, 0, 0, 2, 0, 1, 2, 0, 0, 2, 1, 2, 1, 1, 2, 1, 2, 1, 2, 2, 2, 0, 2, 1, 1, 1, 2, 1, 0, 2, 2, 0, 2, 1, 1, 0, 2, 1, 0, 1, 1, 1, 1, 2, 1, 1, 0, 0, 1, 2, 2, 2, 2, 2, 0, 0, 1, 2, 1, 1, 1, 0, 2, 1, 2, 1, 1, 0, 1, 1, 1, 0, 0, 2, 0, 0, 1, 0, 2, 2, 2, 2, 2, 2, 0, 1, 0, 1, 1, 2, 0, 1, 2, 0, 0, 0, 1, 2, 0, 0, 1, 0, 0, 2, 2, 2, 1, 0, 0, 1, 2, 1, 2, 0, 0, 2, 1, 0, 2, 0, 2, 0, 2, 0, 0, 1, 1, 2, 2, 1, 0, 0, 1, 2, 1, 2, 1, 0, 1, 1, 0, 1, 1, 0, 1, 1, 1, 2, 0, 0, 2, 2, 2, 1, 0, 0, 1, 1, 1, 1, 1, 2, 1, 1, 0, 1, 1, 0, 1, 2, 2, 2, 1, 1, 0, 0, 1, 1, 2, 2, 2, 1, 1, 1, 1, 1, 2, 0, 1, 1, 1, 2, 0, 0, 0, 2, 0, 2, 1, 1, 2, 2, 0, 2, 1, 2, 0, 2, 0, 2, 0, 1, 1, 0, 1, 1, 0, 1, 2, 0, 2, 2, 1, 1, 2, 1, 2, 0, 2, 2, 1, 2, 1, 1, 2, 1, 0, 1, 1, 2, 0, 0, 0, 0, 1, 1, 2, 2, 2, 2, 2, 2, 2, 0, 2, 0, 2, 2, 1, 1, 2, 2, 2, 2, 0, 2, 1, 1, 2, 0, 0, 2, 1, 2, 2, 1, 2, 2, 2, 1, 1, 2, 2, 2, 0, 2, 2, 1, 1, 2, 1, 1, 1, 2, 1, 1, 2, 0, 2, 2, 1, 1, 0, 1, 1, 2, 0, 1, 1, 1, 2, 0, 0, 1, 0, 0, 0, 0, 2, 2, 0, 2, 2, 2, 2, 0, 2, 0, 2, 1, 0, 1, 2, 1, 1, 1, 1, 1, 0, 1, 0, 0, 1, 1, 1, 1, 1, 2, 2, 1, 2, 1, 0, 1, 1, 1, 2, 2, 0, 1, 1, 0, 0, 2, 1, 2, 1, 1, 2, 0, 1, 1, 0, 0, 0, 2, 1, 0, 0, 0, 2, 1, 1, 1, 2, 2, 1, 2, 2, 1, 1, 0, 1, 1, 0, 1, 2, 1, 1, 0, 1, 1, 2, 0, 0, 0, 0, 2, 0, 0, 1, 0, 1, 2, 2, 0, 1, 2, 0, 0, 1, 1, 1, 1, 2, 1, 2, 2, 0, 0, 1, 2, 0, 1, 1, 1, 2, 0, 2, 2, 1, 0, 0, 0, 1, 2, 0, 0, 1, 2, 0, 1, 1, 2, 0, 2, 2, 2, 1, 2, 1, 1, 2, 1, 1, 1, 1, 2, 2, 2, 1, 2, 1, 1, 1, 1, 1, 0, 2, 2, 1, 1, 1, 0, 2, 2, 0, 2, 1, 1, 2, 1, 1, 2, 2, 0, 1, 0, 2, 0, 1, 0, 2, 1, 2, 0, 1, 0, 2, 1, 1, 1, 2, 2, 1, 1, 1, 1, 1, 2, 2, 1, 2, 2, 2, 2, 1, 1, 0, 2, 1, 0, 2, 2, 1, 1, 2, 1, 0, 0, 1, 2, 0, 1, 2, 2, 1, 2, 1, 2, 2, 0, 2, 2, 2, 2, 1, 0, 2, 0, 1, 0, 0, 1, 2, 1, 1, 0, 1, 0, 2, 2, 1, 1, 1, 1, 2, 1, 0, 1, 0, 2, 2, 1, 2, 0, 1, 0, 1, 2, 1, 0, 1, 1, 0, 1, 1, 0, 0, 2, 1, 0, 2, 0, 0, 1, 0, 2, 0, 1, 2, 1, 1, 0, 0, 1, 1, 0, 1, 1, 1, 1, 2, 0, 2, 1, 0, 2, 2, 0, 1, 0, 1, 1, 2, 0, 1, 2, 0, 2, 0, 2, 2, 2, 1, 2, 2, 0, 1, 1, 2, 1, 0, 2, 0, 1, 1, 2, 2, 0, 0, 1, 1, 0, 2, 0, 1, 2, 0, 1, 0, 0, 2, 1, 0, 2, 0, 0, 2, 0, 2, 0, 2, 2, 1, 2, 2, 1, 0, 0, 2, 1, 1, 0, 1, 0, 0, 2, 0, 0, 1, 0, 1, 2, 0, 0, 2, 1, 0, 0, 2, 0, 1, 0, 0, 2, 0, 2, 1, 0, 2, 2, 2, 0, 1, 0, 2, 2, 0, 2, 0, 1, 1, 1, 2, 2, 2, 2, 2, 0, 2, 1, 2, 1, 2, 1, 1, 1, 1, 2, 1, 0, 0, 2, 0, 0, 0, 0, 1, 2, 2, 2, 2, 2, 2, 2, 1, 0, 0, 0, 1, 1, 1, 1, 0, 2, 1, 2, 1, 1, 0, 0, 2, 2, 0, 0, 2, 2, 2, 0, 2, 1, 1, 2, 2, 2, 1, 2, 2, 0, 2, 0, 2, 1, 0, 1, 0, 0, 1, 0, 1, 1, 1, 1, 1, 0, 1, 2, 0, 1, 0, 1, 1, 2, 1, 1, 2, 2, 1, 0, 0, 0, 0, 1, 0, 2, 0, 0, 2, 2, 2, 1, 1, 2, 0, 1, 1, 1, 2, 0, 0, 0, 2, 1, 0, 1, 0, 2, 0, 0, 2, 0, 0, 0, 2, 2, 2, 1, 1, 2, 2, 2, 2, 0, 2, 0, 0, 0, 2, 1, 1, 0, 1, 0, 1, 0, 0, 0, 1, 1, 0, 1, 0, 1, 2]\n"
          ]
        }
      ],
      "source": [
        "y_preds = get_predictions(test_df)\n",
        "print(y_preds)"
      ]
    },
    {
      "cell_type": "code",
      "execution_count": null,
      "metadata": {
        "colab": {
          "background_save": true
        },
        "id": "KUKuu3KtL1_y"
      },
      "outputs": [],
      "source": [
        "y_true = test_df.label"
      ]
    },
    {
      "cell_type": "code",
      "execution_count": null,
      "metadata": {
        "colab": {
          "background_save": true
        },
        "id": "bow20Rr9PoWF",
        "outputId": "830b1204-ac2c-40fc-dd0a-dea33ef71e1b"
      },
      "outputs": [
        {
          "name": "stdout",
          "output_type": "stream",
          "text": [
            "              precision    recall  f1-score   support\n",
            "\n",
            "    negative       0.76      0.77      0.77      1546\n",
            "     neutral       0.69      0.67      0.68      1929\n",
            "    positive       0.81      0.82      0.81      1730\n",
            "\n",
            "    accuracy                           0.75      5205\n",
            "   macro avg       0.75      0.75      0.75      5205\n",
            "weighted avg       0.75      0.75      0.75      5205\n",
            "\n"
          ]
        }
      ],
      "source": [
        "print(classification_report(y_true, y_preds, target_names=[\"negative\", \"neutral\", \"positive\"]))"
      ]
    },
    {
      "cell_type": "code",
      "execution_count": 57,
      "metadata": {
        "id": "vRLUFyJHP_Pp"
      },
      "outputs": [],
      "source": [
        "cm = confusion_matrix(y_true, y_preds)"
      ]
    },
    {
      "cell_type": "code",
      "execution_count": 58,
      "metadata": {
        "id": "XkiWiF24WPzo"
      },
      "outputs": [],
      "source": [
        "def show_confusion_matrix(confusion_matrix):\n",
        "  hmap = sns.heatmap(confusion_matrix, annot=True, fmt=\"d\", cmap=\"Blues\")\n",
        "  hmap.yaxis.set_ticklabels(hmap.yaxis.get_ticklabels(), rotation=0, ha='right')\n",
        "  hmap.xaxis.set_ticklabels(hmap.xaxis.get_ticklabels(), rotation=30, ha='right')\n",
        "  plt.ylabel('True sentiment')\n",
        "  plt.xlabel('Predicted sentiment')"
      ]
    },
    {
      "cell_type": "code",
      "execution_count": 59,
      "metadata": {
        "colab": {
          "base_uri": "https://localhost:8080/",
          "height": 452
        },
        "id": "tATY4LAxWbD9",
        "outputId": "893ad64d-3456-40d8-b9bd-3122237b12d0"
      },
      "outputs": [
        {
          "output_type": "display_data",
          "data": {
            "text/plain": [
              "<Figure size 640x480 with 2 Axes>"
            ],
            "image/png": "[encoded data removed]"
          },
          "metadata": {}
        }
      ],
      "source": [
        "df_cm = pd.DataFrame(cm)\n",
        "show_confusion_matrix(df_cm)"
      ]
    },
    {
      "cell_type": "code",
      "execution_count": 60,
      "metadata": {
        "id": "_K34Cqi7YqFW"
      },
      "outputs": [],
      "source": [
        "df_eval = pd.DataFrame({\n",
        "    \"true\": y_true,\n",
        "    \"pred\": y_preds\n",
        "}, columns=[\"true\", \"pred\"])"
      ]
    },
    {
      "cell_type": "code",
      "execution_count": 61,
      "metadata": {
        "colab": {
          "base_uri": "https://localhost:8080/",
          "height": 466
        },
        "id": "ItuSx67LYweQ",
        "outputId": "a0cbd999-d93a-4c63-b79e-b0fcbbd12abe"
      },
      "outputs": [
        {
          "output_type": "execute_result",
          "data": {
            "text/plain": [
              "<Axes: xlabel='true', ylabel='count'>"
            ]
          },
          "metadata": {},
          "execution_count": 61
        },
        {
          "output_type": "display_data",
          "data": {
            "text/plain": [
              "<Figure size 640x480 with 1 Axes>"
            ],
            "image/png": "[encoded data removed]"
          },
          "metadata": {}
        }
      ],
      "source": [
        "sns.countplot(data=df_eval, x=\"true\", hue=\"pred\")"
      ]
    },
    {
      "cell_type": "code",
      "execution_count": null,
      "metadata": {
        "colab": {
          "background_save": true
        },
        "id": "OGyientGW-Do",
        "outputId": "659d86ea-de51-4a00-9e69-bb50ad9901d3"
      },
      "outputs": [
        {
          "data": {
            "application/vnd.jupyter.widget-view+json": {
              "model_id": "66e7c808438144dca05cc1bd9598c191",
              "version_major": 2,
              "version_minor": 0
            },
            "text/plain": [
              "Downloading (…)lve/main/config.json:   0%|          | 0.00/747 [00:00<?, ?B/s]"
            ]
          },
          "metadata": {},
          "output_type": "display_data"
        },
        {
          "data": {
            "application/vnd.jupyter.widget-view+json": {
              "model_id": "f43c3ca9c98e4c689089b3f520e6e881",
              "version_major": 2,
              "version_minor": 0
            },
            "text/plain": [
              "Downloading (…)olve/main/vocab.json:   0%|          | 0.00/899k [00:00<?, ?B/s]"
            ]
          },
          "metadata": {},
          "output_type": "display_data"
        },
        {
          "data": {
            "application/vnd.jupyter.widget-view+json": {
              "model_id": "3bb657717df748cf9a51f68a8caa4203",
              "version_major": 2,
              "version_minor": 0
            },
            "text/plain": [
              "Downloading (…)olve/main/merges.txt:   0%|          | 0.00/456k [00:00<?, ?B/s]"
            ]
          },
          "metadata": {},
          "output_type": "display_data"
        },
        {
          "data": {
            "application/vnd.jupyter.widget-view+json": {
              "model_id": "e7d3ebc44f97471b9653a153cac63fe6",
              "version_major": 2,
              "version_minor": 0
            },
            "text/plain": [
              "Downloading (…)cial_tokens_map.json:   0%|          | 0.00/150 [00:00<?, ?B/s]"
            ]
          },
          "metadata": {},
          "output_type": "display_data"
        }
      ],
      "source": [
        "#@title Model2\n",
        "task='sentiment'\n",
        "MODEL_PATH = f\"cardiffnlp/twitter-roberta-base-{task}\"\n",
        "tokenizer = AutoTokenizer.from_pretrained(MODEL_PATH)"
      ]
    },
    {
      "cell_type": "code",
      "execution_count": null,
      "metadata": {
        "colab": {
          "background_save": true
        },
        "id": "WSE0iw_Fm6u-",
        "outputId": "d4bd1066-2e52-4c8a-b86b-cee2073c6666"
      },
      "outputs": [
        {
          "data": {
            "application/vnd.jupyter.widget-view+json": {
              "model_id": "0bbc54fd3ee74912a119f2ce3f85e7d3",
              "version_major": 2,
              "version_minor": 0
            },
            "text/plain": [
              "Downloading pytorch_model.bin:   0%|          | 0.00/499M [00:00<?, ?B/s]"
            ]
          },
          "metadata": {},
          "output_type": "display_data"
        }
      ],
      "source": [
        "model = AutoModelForSequenceClassification.from_pretrained(MODEL_PATH)\n",
        "model.save_pretrained(MODEL_PATH)"
      ]
    },
    {
      "cell_type": "code",
      "execution_count": null,
      "metadata": {
        "colab": {
          "background_save": true
        },
        "id": "N3DwknaOXtrr"
      },
      "outputs": [],
      "source": [
        "def get_predictions2(reviews):\n",
        "  preds = []\n",
        "  class_names=[\"negative\", \"neutral\", \"positive\"]\n",
        "  for review in reviews:\n",
        "    encoded_input = tokenizer(review, return_tensors='pt')\n",
        "    output = model(**encoded_input)\n",
        "    scores = output[0][0].detach().numpy()\n",
        "\n",
        "    scores = softmax(scores)\n",
        "    # pred = class_names[np.argmax(scores)]\n",
        "    pred = np.argmax(scores)\n",
        "    preds.append(pred)\n",
        "  return preds\n"
      ]
    },
    {
      "cell_type": "code",
      "execution_count": null,
      "metadata": {
        "colab": {
          "background_save": true
        },
        "id": "8C4jJAA7X3HB"
      },
      "outputs": [],
      "source": [
        "y_preds2 = get_predictions2(test_df.text)"
      ]
    },
    {
      "cell_type": "code",
      "execution_count": null,
      "metadata": {
        "colab": {
          "background_save": true
        },
        "id": "icU7elnQ4ALd",
        "outputId": "ff2dc91a-d40c-4514-d31b-d5fe3f5c3a34"
      },
      "outputs": [
        {
          "name": "stdout",
          "output_type": "stream",
          "text": [
            "              precision    recall  f1-score   support\n",
            "\n",
            "    negative       0.71      0.77      0.74      1546\n",
            "     neutral       0.69      0.56      0.62      1929\n",
            "    positive       0.73      0.84      0.78      1730\n",
            "\n",
            "    accuracy                           0.71      5205\n",
            "   macro avg       0.71      0.72      0.71      5205\n",
            "weighted avg       0.71      0.71      0.71      5205\n",
            "\n"
          ]
        }
      ],
      "source": [
        "print(classification_report(y_true, y_preds2, target_names=[\"negative\", \"neutral\", \"positive\"]))"
      ]
    },
    {
      "cell_type": "code",
      "execution_count": 62,
      "metadata": {
        "id": "HamKTBfuX6Zi"
      },
      "outputs": [],
      "source": [
        "cm = confusion_matrix(y_true, y_preds2)"
      ]
    },
    {
      "cell_type": "code",
      "execution_count": 63,
      "metadata": {
        "colab": {
          "base_uri": "https://localhost:8080/",
          "height": 452
        },
        "id": "JzHSJYF5YUq9",
        "outputId": "c6b6f6dc-f2b6-4a1b-f663-4d7b37502edc"
      },
      "outputs": [
        {
          "output_type": "display_data",
          "data": {
            "text/plain": [
              "<Figure size 640x480 with 2 Axes>"
            ],
            "image/png": "[encoded data removed]"
          },
          "metadata": {}
        }
      ],
      "source": [
        "df_cm = pd.DataFrame(cm)\n",
        "show_confusion_matrix(df_cm)"
      ]
    },
    {
      "cell_type": "code",
      "execution_count": 64,
      "metadata": {
        "id": "JNA4T6xcY21s"
      },
      "outputs": [],
      "source": [
        "df_eval = pd.DataFrame({\n",
        "    \"true\": y_true,\n",
        "    \"pred\": y_preds2\n",
        "}, columns=[\"true\", \"pred\"])"
      ]
    },
    {
      "cell_type": "code",
      "execution_count": 65,
      "metadata": {
        "colab": {
          "base_uri": "https://localhost:8080/",
          "height": 466
        },
        "id": "2b5ixNtaY2pt",
        "outputId": "dac63476-458b-42e1-f39a-1297f5814ff4"
      },
      "outputs": [
        {
          "output_type": "execute_result",
          "data": {
            "text/plain": [
              "<Axes: xlabel='true', ylabel='count'>"
            ]
          },
          "metadata": {},
          "execution_count": 65
        },
        {
          "output_type": "display_data",
          "data": {
            "text/plain": [
              "<Figure size 640x480 with 1 Axes>"
            ],
            "image/png": "[encoded data removed]"
          },
          "metadata": {}
        }
      ],
      "source": [
        "sns.countplot(data=df_eval, x=\"true\", hue=\"pred\")"
      ]
    },
    {
      "cell_type": "code",
      "execution_count": null,
      "metadata": {
        "colab": {
          "background_save": true
        },
        "id": "to4s1B_vY8ST",
        "outputId": "d183836b-7a9b-41c3-859c-48cec8c3f1d0"
      },
      "outputs": [
        {
          "data": {
            "application/vnd.jupyter.widget-view+json": {
              "model_id": "977fd628e55d4368955ed6005d0ef154",
              "version_major": 2,
              "version_minor": 0
            },
            "text/plain": [
              "Downloading (…)lve/main/config.json:   0%|          | 0.00/789 [00:00<?, ?B/s]"
            ]
          },
          "metadata": {},
          "output_type": "display_data"
        },
        {
          "data": {
            "application/vnd.jupyter.widget-view+json": {
              "model_id": "0315729cf3a44fb3a5655d4ea9c7a61b",
              "version_major": 2,
              "version_minor": 0
            },
            "text/plain": [
              "Downloading pytorch_model.bin:   0%|          | 0.00/439M [00:00<?, ?B/s]"
            ]
          },
          "metadata": {},
          "output_type": "display_data"
        },
        {
          "data": {
            "application/vnd.jupyter.widget-view+json": {
              "model_id": "e0b77aa037064ef5a3c9b001c6fd9335",
              "version_major": 2,
              "version_minor": 0
            },
            "text/plain": [
              "Downloading (…)solve/main/vocab.txt:   0%|          | 0.00/226k [00:00<?, ?B/s]"
            ]
          },
          "metadata": {},
          "output_type": "display_data"
        },
        {
          "data": {
            "application/vnd.jupyter.widget-view+json": {
              "model_id": "f03c104800e84cecbbc374a3c101e2c7",
              "version_major": 2,
              "version_minor": 0
            },
            "text/plain": [
              "Downloading (…)cial_tokens_map.json:   0%|          | 0.00/112 [00:00<?, ?B/s]"
            ]
          },
          "metadata": {},
          "output_type": "display_data"
        },
        {
          "data": {
            "application/vnd.jupyter.widget-view+json": {
              "model_id": "451cf88f20a245bb9f838833c5e5b571",
              "version_major": 2,
              "version_minor": 0
            },
            "text/plain": [
              "Downloading (…)okenizer_config.json:   0%|          | 0.00/369 [00:00<?, ?B/s]"
            ]
          },
          "metadata": {},
          "output_type": "display_data"
        }
      ],
      "source": [
        "#@title Model3\n",
        "model3 = BertForSequenceClassification.from_pretrained(\"ahmedrachid/FinancialBERT-Sentiment-Analysis\", num_labels=3)\n",
        "tokenizer3 = BertTokenizer.from_pretrained(\"ahmedrachid/FinancialBERT-Sentiment-Analysis\")"
      ]
    },
    {
      "cell_type": "code",
      "execution_count": null,
      "metadata": {
        "colab": {
          "background_save": true
        },
        "id": "3APCv7wkZODb",
        "outputId": "c25d11db-7a2b-4c19-9cca-90ba37ecef89"
      },
      "outputs": [
        {
          "name": "stderr",
          "output_type": "stream",
          "text": [
            "Xformers is not installed correctly. If you want to use memory_efficient_attention to accelerate training use the following command to install Xformers\n",
            "pip install xformers.\n"
          ]
        }
      ],
      "source": [
        "nlp = pipeline(\"sentiment-analysis\", model=model3, tokenizer=tokenizer3)"
      ]
    },
    {
      "cell_type": "code",
      "execution_count": null,
      "metadata": {
        "colab": {
          "background_save": true
        },
        "id": "TdD6fjnaZUuT"
      },
      "outputs": [],
      "source": [
        "results = nlp(test_df['text'].to_list())"
      ]
    },
    {
      "cell_type": "code",
      "execution_count": null,
      "metadata": {
        "colab": {
          "background_save": true
        },
        "id": "a9KFSS3UZ7Yq"
      },
      "outputs": [],
      "source": [
        "y_preds3 = [result['label']  for result in results]"
      ]
    },
    {
      "cell_type": "code",
      "execution_count": 66,
      "metadata": {
        "colab": {
          "base_uri": "https://localhost:8080/"
        },
        "id": "9iBeTh5EZxsJ",
        "outputId": "f1c2cf58-fb21-46fe-81e7-f59ad18f5438"
      },
      "outputs": [
        {
          "output_type": "stream",
          "name": "stdout",
          "text": [
            "              precision    recall  f1-score   support\n",
            "\n",
            "    negative       0.75      0.08      0.14      1546\n",
            "     neutral       0.39      0.97      0.55      1929\n",
            "    positive       0.77      0.10      0.18      1730\n",
            "\n",
            "    accuracy                           0.41      5205\n",
            "   macro avg       0.64      0.38      0.29      5205\n",
            "weighted avg       0.62      0.41      0.30      5205\n",
            "\n"
          ]
        }
      ],
      "source": [
        "print(classification_report(test_df['sentiment'], y_preds3, target_names=class_names))"
      ]
    },
    {
      "cell_type": "code",
      "execution_count": 67,
      "metadata": {
        "colab": {
          "base_uri": "https://localhost:8080/",
          "height": 478
        },
        "id": "ER6ZmNXNaDgF",
        "outputId": "bc6c519e-a3c4-4748-cf5a-f8f9413081af"
      },
      "outputs": [
        {
          "output_type": "display_data",
          "data": {
            "text/plain": [
              "<Figure size 640x480 with 2 Axes>"
            ],
            "image/png": "[encoded data removed]"
          },
          "metadata": {}
        }
      ],
      "source": [
        "cm = confusion_matrix(test_df['sentiment'], y_preds3)\n",
        "df_cm = pd.DataFrame(cm, index=class_names, columns=class_names)\n",
        "show_confusion_matrix(df_cm)"
      ]
    },
    {
      "cell_type": "code",
      "execution_count": 68,
      "metadata": {
        "id": "6mtJUpynaO7G"
      },
      "outputs": [],
      "source": [
        "df_eval = pd.DataFrame({\n",
        "    \"true\": test_df['sentiment'],\n",
        "    \"pred\": y_preds3\n",
        "}, columns=[\"true\", \"pred\"])"
      ]
    },
    {
      "cell_type": "code",
      "execution_count": 69,
      "metadata": {
        "colab": {
          "base_uri": "https://localhost:8080/",
          "height": 466
        },
        "id": "fA7PT5g4aQb_",
        "outputId": "1bd5da8c-63a5-4378-aaae-ea136b86e2b6"
      },
      "outputs": [
        {
          "output_type": "execute_result",
          "data": {
            "text/plain": [
              "<Axes: xlabel='true', ylabel='count'>"
            ]
          },
          "metadata": {},
          "execution_count": 69
        },
        {
          "output_type": "display_data",
          "data": {
            "text/plain": [
              "<Figure size 640x480 with 1 Axes>"
            ],
            "image/png": "[encoded data removed]"
          },
          "metadata": {}
        }
      ],
      "source": [
        "sns.countplot(data=df_eval, x=\"true\", hue=\"pred\")"
      ]
    },
    {
      "cell_type": "code",
      "source": [],
      "metadata": {
        "id": "umzb5kfDuBFK"
      },
      "execution_count": null,
      "outputs": []
    }
  ],
  "metadata": {
    "colab": {
      "provenance": []
    },
    "kernelspec": {
      "display_name": "Python 3",
      "name": "python3"
    },
    "language_info": {
      "name": "python"
    }
  },
  "nbformat": 4,
  "nbformat_minor": 0
}